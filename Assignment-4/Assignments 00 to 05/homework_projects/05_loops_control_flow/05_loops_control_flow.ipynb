{
  "nbformat": 4,
  "nbformat_minor": 0,
  "metadata": {
    "colab": {
      "provenance": [],
      "authorship_tag": "ABX9TyOOKwrPaB5DgmxemhrmCray",
      "include_colab_link": true
    },
    "kernelspec": {
      "name": "python3",
      "display_name": "Python 3"
    },
    "language_info": {
      "name": "python"
    }
  },
  "cells": [
    {
      "cell_type": "markdown",
      "metadata": {
        "id": "view-in-github",
        "colab_type": "text"
      },
      "source": [
        "<a href=\"https://colab.research.google.com/github/ABDUL-REHMAN-786/Assignment4-giaic/blob/main/05_loops_control_flow.ipynb\" target=\"_parent\"><img src=\"https://colab.research.google.com/assets/colab-badge.svg\" alt=\"Open In Colab\"/></a>"
      ]
    },
    {
      "cell_type": "markdown",
      "source": [
        "# Guess My Number\n",
        "\n",
        "I am thinking of a number between 0 and 99... Enter a guess: 50 Your guess is too high\n",
        "\n",
        "Enter a new number: 25 Your guess is too low\n",
        "\n",
        "Enter a new number: 40 Your guess is too low\n",
        "\n",
        "Enter a new number: 45 Your guess is too low\n",
        "\n",
        "Enter a new number: 48 Congrats! The number was: 48"
      ],
      "metadata": {
        "id": "YWpA9FttQ-Yo"
      }
    },
    {
      "cell_type": "code",
      "source": [
        "import random\n",
        "\n",
        "def guess_my_number():\n",
        "    # The computer randomly selects a number between 0 and 99\n",
        "    number_to_guess = random.randint(0, 99)\n",
        "\n",
        "    print(\"I am thinking of a number between 0 and 99...\")\n",
        "    print(\"Type 'exit' to quit the game.\")\n",
        "\n",
        "    while True:\n",
        "        # Prompt the user to enter their guess\n",
        "        user_input = input(\"Enter a guess: \")\n",
        "\n",
        "        # Check if the user wants to exit the game\n",
        "        if user_input.lower() == 'exit':\n",
        "            print(\"Thanks for playing! Goodbye.\")\n",
        "            break\n",
        "\n",
        "        try:\n",
        "            # Try to convert the input into an integer\n",
        "            guess = int(user_input)\n",
        "        except ValueError:\n",
        "            print(\"Please enter a valid number!\")\n",
        "            continue  # Ask the user again if input is invalid\n",
        "\n",
        "        # Check if the guess is correct, too high, or too low\n",
        "        if guess > number_to_guess:\n",
        "            print(\"Your guess is too high\")\n",
        "        elif guess < number_to_guess:\n",
        "            print(\"Your guess is too low\")\n",
        "        else:\n",
        "            print(f\"Congrats! The number was: {number_to_guess}\")\n",
        "            break  # Exit the loop when the user guesses correctly\n",
        "\n",
        "# Call the function to start the game\n",
        "guess_my_number()\n"
      ],
      "metadata": {
        "colab": {
          "base_uri": "https://localhost:8080/"
        },
        "id": "VMebeO5YR4Wu",
        "outputId": "21c0620f-9648-4d0c-d2d0-f6d101e7b2ac"
      },
      "execution_count": 3,
      "outputs": [
        {
          "output_type": "stream",
          "name": "stdout",
          "text": [
            "I am thinking of a number between 0 and 99...\n",
            "Type 'exit' to quit the game.\n",
            "Enter a guess: 99\n",
            "Your guess is too high\n",
            "Enter a guess: exit\n",
            "Thanks for playing! Goodbye.\n"
          ]
        }
      ]
    },
    {
      "cell_type": "markdown",
      "source": [
        "# Write a program to print terms in the Fibonacci sequence up to a maximum value.\n",
        "\n",
        "In the 13th century, the Italian mathematician Leonardo Fibonacci, as a way to explain the geometric growth of a population of rabbits, devised a mathematical sequence that now bears his name. The first two terms in this sequence, Fib(0) and Fib(1), are 0 and 1, and every subsequent term is the sum of the preceding two. Thus, the first several terms in the Fibonacci sequence look like this:\n",
        "\n",
        "Fib(0) = 0 Fib(1) = 1 Fib(2) = 1 = 0 + 1 Fib(3) = 2 = 1 + 1 Fib(4) = 3 = 1 + 2 Fib(5) = 5 = 2 + 3\n",
        "\n",
        "Write a program that displays the terms in the Fibonacci sequence, starting with Fib(0) and continuing as long as the terms are less than 10,000 (you should store this value as a constant!). Thus, your program should produce the following sample run:\n",
        "\n",
        "0 1 1 2 3 5 8 13 21 34 55 89 144 233 377 610 987 1597 2584 4181 6765"
      ],
      "metadata": {
        "id": "KGIEecLTSU1A"
      }
    },
    {
      "cell_type": "code",
      "source": [
        "# Define the maximum value for the Fibonacci sequence\n",
        "MAX_VALUE = 10000\n",
        "\n",
        "def fibonacci_sequence():\n",
        "    # Starting values for Fibonacci sequence\n",
        "    a, b = 0, 1\n",
        "\n",
        "    # Loop to generate Fibonacci numbers as long as they are less than MAX_VALUE\n",
        "    while a < MAX_VALUE:\n",
        "        print(a, end=\" \")  # Print current Fibonacci number, followed by a space\n",
        "        a, b = b, a + b  # Move to the next pair of numbers in the sequence\n",
        "\n",
        "# Call the function to display Fibonacci numbers\n",
        "fibonacci_sequence()\n"
      ],
      "metadata": {
        "colab": {
          "base_uri": "https://localhost:8080/"
        },
        "id": "gjK9z3jOSarb",
        "outputId": "8af7edca-6675-4b4c-fd94-b3e2c4994249"
      },
      "execution_count": 4,
      "outputs": [
        {
          "output_type": "stream",
          "name": "stdout",
          "text": [
            "0 1 1 2 3 5 8 13 21 34 55 89 144 233 377 610 987 1597 2584 4181 6765 "
          ]
        }
      ]
    },
    {
      "cell_type": "markdown",
      "source": [
        "# Write a program that prints the first 20 even numbers. There are several correct approaches, but they all use a loop of some sort. Do no write twenty print statements\n",
        "\n",
        "The first even number is 0:\n",
        "\n",
        "0 2 4 6 8 10 12 14 16 18 20 22 24 26 28 30 32 34 36 38"
      ],
      "metadata": {
        "id": "LhFcJu_eSe20"
      }
    },
    {
      "cell_type": "code",
      "source": [
        "# Loop through the first 20 even numbers\n",
        "for i in range(20):\n",
        "    print(i * 2, end=\" \")\n",
        "\n"
      ],
      "metadata": {
        "colab": {
          "base_uri": "https://localhost:8080/"
        },
        "id": "dPtmKIl6S9vh",
        "outputId": "ad50d391-c452-4e97-c428-d7add6dc878f"
      },
      "execution_count": 5,
      "outputs": [
        {
          "output_type": "stream",
          "name": "stdout",
          "text": [
            "0 2 4 6 8 10 12 14 16 18 20 22 24 26 28 30 32 34 36 38 "
          ]
        }
      ]
    },
    {
      "cell_type": "markdown",
      "source": [
        "# Write a program which prompts the user to type an affirmation of your choice (we'll use \"I am capable of doing anything I put my mind to.\") until they type it correctly. Sometimes, especially in the midst of such uncertain times, we just need to be reminded that we are resilient, capable, and strong; this little Python program may be able to help!\n",
        "\n",
        "Here's a sample run of the program (user input is in blue):\n",
        "\n",
        "Please type the following affirmation: I am capable of doing anything I put my mind to. Hmmm That was not the affirmation. Please type the following affirmation: I am capable of doing anything I put my mind to. I am capable of doing anything I put my mind to. That's right! :)\n",
        "\n",
        "Note that you can call input() with no prompt and it will still wait for a user to type something!"
      ],
      "metadata": {
        "id": "JdB9wJAuTplR"
      }
    },
    {
      "cell_type": "code",
      "source": [
        "# The correct affirmation to match\n",
        "affirmation = \"I am capable of doing anything I put my mind to.\"\n",
        "\n",
        "# Loop until the user types the correct affirmation or chooses to exit\n",
        "while True:\n",
        "    # Prompt the user to enter the affirmation or type 'exit' to quit\n",
        "    user_input = input(\"Please type the following affirmation (or type 'exit' to quit): \")\n",
        "\n",
        "    # Check if the user wants to exit\n",
        "    if user_input.lower() == 'exit':\n",
        "        print(\"Thanks for playing! Goodbye.\")\n",
        "        break  # Exit the loop and end the program\n",
        "\n",
        "    # Check if the user input matches the affirmation\n",
        "    if user_input == affirmation:\n",
        "        print(\"That's right! :)\")\n",
        "        break  # Exit the loop when the affirmation is typed correctly\n",
        "    else:\n",
        "        print(\"Hmmm That was not the affirmation.\")\n"
      ],
      "metadata": {
        "colab": {
          "base_uri": "https://localhost:8080/"
        },
        "id": "kxlI1eu7T7d4",
        "outputId": "28b74583-8f62-4f41-9c74-8b2002ab2a9a"
      },
      "execution_count": 7,
      "outputs": [
        {
          "output_type": "stream",
          "name": "stdout",
          "text": [
            "Please type the following affirmation (or type 'exit' to quit): exit\n",
            "Thanks for playing! Goodbye.\n"
          ]
        }
      ]
    },
    {
      "cell_type": "markdown",
      "source": [
        "# Write a program that prints out the calls for a spaceship that is about to launch. Countdown from 10 to 1 and then output Liftoff!\n",
        "\n",
        "Here's a sample run of the program:\n",
        "\n",
        "10 9 8 7 6 5 4 3 2 1 Liftoff!\n",
        "\n",
        "There are many ways to solve this problem. One approach is to use a for loop, and to use the for loop variable i. Recall that i will keep track of how many times the for loop has completed executing its body. As an example this code:\n",
        "\n",
        "for i in range(10): print(i)\n",
        "\n",
        "Will print out the values 0, 1, 2, 3, 4, 5, 6, 7, 8, 9. The values printed in liftoff are 10 minus the number of times the for loop has completed."
      ],
      "metadata": {
        "id": "X03mM2e0T-6t"
      }
    },
    {
      "cell_type": "code",
      "source": [
        "# Countdown from 10 to 1\n",
        "for i in range(10, 0, -1):\n",
        "    print(i, end=\" \")\n",
        "\n",
        "# After the countdown, print \"Liftoff!\"\n",
        "print(\"Liftoff!\")\n"
      ],
      "metadata": {
        "colab": {
          "base_uri": "https://localhost:8080/"
        },
        "id": "yWaee43EUG4_",
        "outputId": "41d19bc1-30d3-4bcf-f1cc-d055d9cc3307"
      },
      "execution_count": 8,
      "outputs": [
        {
          "output_type": "stream",
          "name": "stdout",
          "text": [
            "10 9 8 7 6 5 4 3 2 1 Liftoff!\n"
          ]
        }
      ]
    },
    {
      "cell_type": "markdown",
      "source": [
        "# Write a program that asks a user to enter a number. Your program will then double that number and print out the result. It will repeat that process until the value is 100 or greater.\n",
        "\n",
        "For example if the user enters the number 2 you would then print:\n",
        "\n",
        "4 8 16 32 64 128\n",
        "\n",
        "Note that:\n",
        "\n",
        "2 doubled is 4\n",
        "\n",
        "4 doubled is 8\n",
        "\n",
        "8 doubled is 16\n",
        "\n",
        "and so on.\n",
        "\n",
        "We stop at 128 because that value is greater than 100.\n",
        "\n",
        "Maintain the current number in a variable named curr_value. When you double the number, you should be updating curr_value. Recall that you can double the value of curr_value using a line like:\n",
        "\n",
        "curr_value = curr_value * 2\n",
        "\n",
        "This program should have a while loop and the while loop condition should test if curr_value is less than 100. Thus, your program will have the line:\n",
        "\n",
        "while curr_value < 100:"
      ],
      "metadata": {
        "id": "UMUQXuzXUKvZ"
      }
    },
    {
      "cell_type": "code",
      "source": [
        "# Ask the user to enter a number\n",
        "curr_value = int(input(\"Enter a number: \"))\n",
        "\n",
        "# Loop until the current value is greater than or equal to 100\n",
        "while curr_value < 100:\n",
        "    # Double the value and print the result\n",
        "    curr_value *= 2\n",
        "    print(curr_value, end=\" \")\n"
      ],
      "metadata": {
        "colab": {
          "base_uri": "https://localhost:8080/"
        },
        "id": "P1JMF6U9UQDP",
        "outputId": "e61efb53-f7f4-47a8-f51a-e5e2da7e18e6"
      },
      "execution_count": 9,
      "outputs": [
        {
          "output_type": "stream",
          "name": "stdout",
          "text": [
            "Enter a number: 5\n",
            "10 20 40 80 160 "
          ]
        }
      ]
    }
  ]
}