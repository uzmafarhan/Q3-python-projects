{
  "nbformat": 4,
  "nbformat_minor": 0,
  "metadata": {
    "colab": {
      "provenance": [],
      "authorship_tag": "ABX9TyMOq7AdCP+/csbFjZXvB5fM",
      "include_colab_link": true
    },
    "kernelspec": {
      "name": "python3",
      "display_name": "Python 3"
    },
    "language_info": {
      "name": "python"
    }
  },
  "cells": [
    {
      "cell_type": "markdown",
      "metadata": {
        "id": "view-in-github",
        "colab_type": "text"
      },
      "source": [
        "<a href=\"https://colab.research.google.com/github/ABDUL-REHMAN-786/Assignment4-giaic/blob/main/02_lists.ipynb\" target=\"_parent\"><img src=\"https://colab.research.google.com/assets/colab-badge.svg\" alt=\"Open In Colab\"/></a>"
      ]
    },
    {
      "cell_type": "markdown",
      "source": [
        "# Write a function that takes a list of numbers and returns the sum of those numbers."
      ],
      "metadata": {
        "id": "6F3l_EbD4_Cm"
      }
    },
    {
      "cell_type": "code",
      "source": [
        "def sum_numbers(numbers):\n",
        "    \"\"\"Returns the sum of a list of numbers.\"\"\"\n",
        "    return sum(numbers)\n",
        "\n",
        "# Example usage\n",
        "num_list = [1, 2, 3, 4, 5]\n",
        "result = sum_numbers(num_list)\n",
        "print(f\"The sum of {num_list} is {result}\")\n"
      ],
      "metadata": {
        "colab": {
          "base_uri": "https://localhost:8080/"
        },
        "id": "cjHIXQKd5Eaq",
        "outputId": "6eac20f7-063f-4106-bf34-99e37c87f881"
      },
      "execution_count": 1,
      "outputs": [
        {
          "output_type": "stream",
          "name": "stdout",
          "text": [
            "The sum of [1, 2, 3, 4, 5] is 15\n"
          ]
        }
      ]
    },
    {
      "cell_type": "markdown",
      "source": [
        "# Write a program that doubles each element in a list of numbers. For example, if you start with this list:\n",
        "\n",
        "numbers = [1, 2, 3, 4]\n",
        "\n",
        "You should end with this list:\n",
        "\n",
        "numbers = [2, 4, 6, 8]"
      ],
      "metadata": {
        "id": "nvNv063-Fnjf"
      }
    },
    {
      "cell_type": "code",
      "source": [
        "# Define the list of numbers\n",
        "numbers = [1, 2, 3, 4]\n",
        "\n",
        "# Double each element using list comprehension\n",
        "doubled_numbers = [num * 2 for num in numbers]\n",
        "\n",
        "# Display the result\n",
        "print(f\"Original list: {numbers}\")\n",
        "print(f\"Doubled list: {doubled_numbers}\")\n"
      ],
      "metadata": {
        "colab": {
          "base_uri": "https://localhost:8080/"
        },
        "id": "QgbLuIcYF9dy",
        "outputId": "f1600553-7c79-47b1-8bcd-3b68bc7bf210"
      },
      "execution_count": 2,
      "outputs": [
        {
          "output_type": "stream",
          "name": "stdout",
          "text": [
            "Original list: [1, 2, 3, 4]\n",
            "Doubled list: [2, 4, 6, 8]\n"
          ]
        }
      ]
    },
    {
      "cell_type": "markdown",
      "source": [
        "# Implement an 'eraser' on a canvas.\n",
        "\n",
        "The canvas consists of a grid of blue 'cells' which are drawn as rectangles on the screen. We then create an eraser rectangle which, when dragged around the canvas, sets all of the rectangles it is in contact with to white."
      ],
      "metadata": {
        "id": "CXgD2QcfGC8I"
      }
    },
    {
      "cell_type": "code",
      "source": [
        "import numpy as np\n",
        "import matplotlib.pyplot as plt\n",
        "\n",
        "# Define the grid size\n",
        "GRID_SIZE = 10  # 10x10 grid\n",
        "CELL_SIZE = 1   # Each cell is 1x1 in matplotlib units\n",
        "\n",
        "# Create a blue grid\n",
        "grid = np.ones((GRID_SIZE, GRID_SIZE, 3))  # 3 channels (RGB)\n",
        "grid[:, :] = [0, 0, 1]  # Set all cells to blue (RGB: (0, 0, 1))\n",
        "\n",
        "# Create the figure and axis\n",
        "fig, ax = plt.subplots(figsize=(6, 6))\n",
        "ax.set_xticks([])\n",
        "ax.set_yticks([])\n",
        "ax.set_xlim(0, GRID_SIZE)\n",
        "ax.set_ylim(0, GRID_SIZE)\n",
        "\n",
        "# Display the grid\n",
        "image = ax.imshow(grid, extent=[0, GRID_SIZE, 0, GRID_SIZE])\n",
        "\n",
        "def erase(event):\n",
        "    \"\"\"Erases (turns white) any cell the mouse moves over.\"\"\"\n",
        "    if event.xdata is not None and event.ydata is not None:\n",
        "        col = int(event.xdata)\n",
        "        row = GRID_SIZE - int(event.ydata) - 1  # Flip y-coordinates\n",
        "\n",
        "        if 0 <= row < GRID_SIZE and 0 <= col < GRID_SIZE:\n",
        "            grid[row, col] = [1, 1, 1]  # Set cell to white (RGB: (1, 1, 1))\n",
        "            image.set_data(grid)  # Update the grid\n",
        "            fig.canvas.draw()  # Redraw canvas\n",
        "\n",
        "# Connect the erase function to mouse motion event\n",
        "fig.canvas.mpl_connect(\"motion_notify_event\", erase)\n",
        "\n",
        "plt.show()\n"
      ],
      "metadata": {
        "colab": {
          "base_uri": "https://localhost:8080/",
          "height": 499
        },
        "id": "80fYOg6mGVJe",
        "outputId": "c722ae51-4f2f-4d46-fd61-a599213e369f"
      },
      "execution_count": 5,
      "outputs": [
        {
          "output_type": "display_data",
          "data": {
            "text/plain": [
              "<Figure size 600x600 with 1 Axes>"
            ],
            "image/png": "[encoded data removed]"
          },
          "metadata": {}
        }
      ]
    },
    {
      "cell_type": "markdown",
      "source": [
        "# In the information flow lesson, we discussed using a variable storing a number as an example of scope. We saw that changes we made to the number inside a function did not stay unless we returned it. This is true for what we call immutable data types which include things like numbers and strings.\n",
        "\n",
        "However, there are also mutable data types where changes stay even if we don't return anything. Some examples of mutable data types are lists and dictionaries. This means that you should be mindful when modifying lists and dictionaries within helper functions since their changes stay whether or not you return them.\n",
        "\n",
        "To see this in action, fill out the add_three_copies(...) function which takes a list and some data and then adds three copies of the data to the list. Don't return anything and see what happens! Compare this process to the x = change(x) example and note the differences.\n",
        "\n",
        "Here is an example run of this program (user input in bold italics):\n",
        "\n",
        "Enter a message to copy: Hello world!\n",
        "\n",
        "List before: []\n",
        "\n",
        "List after: ['Hello world!', 'Hello world!', 'Hello world!']\n",
        "\n",
        "(Note. The concept of immutable/mutable data types is called mutability. Be careful because different programming languages have different rules regarding mutability!)"
      ],
      "metadata": {
        "id": "02BwzC5eHV4d"
      }
    },
    {
      "cell_type": "code",
      "source": [
        "def add_three_copies(lst, data):\n",
        "    \"\"\"Adds three copies of data to the list (modifies list in-place).\"\"\"\n",
        "    lst.append(data)\n",
        "    lst.append(data)\n",
        "    lst.append(data)\n",
        "\n",
        "# Get user input\n",
        "message = input(\"Enter a message to copy: \")\n",
        "\n",
        "# Create an empty list\n",
        "my_list = []\n",
        "\n",
        "# Show list before modification\n",
        "print(\"\\nList before:\", my_list)\n",
        "\n",
        "# Call function to add three copies\n",
        "add_three_copies(my_list, message)\n",
        "\n",
        "# Show list after modification\n",
        "print(\"List after:\", my_list)\n"
      ],
      "metadata": {
        "colab": {
          "base_uri": "https://localhost:8080/"
        },
        "id": "oUly2wC_Ha7p",
        "outputId": "0e5fc51a-13de-4aae-891b-ed560b646dda"
      },
      "execution_count": 6,
      "outputs": [
        {
          "output_type": "stream",
          "name": "stdout",
          "text": [
            "Enter a message to copy: rehman\n",
            "\n",
            "List before: []\n",
            "List after: ['rehman', 'rehman', 'rehman']\n"
          ]
        }
      ]
    },
    {
      "cell_type": "markdown",
      "source": [
        "# Fill out the function get_first_element(lst) which takes in a list lst as a parameter and prints the first element in the list. The list is guaranteed to be non-empty. We've written some code for you which prompts the user to input the list one element at a time."
      ],
      "metadata": {
        "id": "mN-BOx0ZHiRC"
      }
    },
    {
      "cell_type": "code",
      "source": [
        "def get_first_element(lst):\n",
        "    \"\"\"Prints the first element of a non-empty list.\"\"\"\n",
        "    print(\"The first element is:\", lst[0])\n",
        "\n",
        "# Prompt user for list input\n",
        "n = int(input(\"Enter the number of elements in the list: \"))\n",
        "\n",
        "# Ensure n is a positive number\n",
        "if n <= 0:\n",
        "    print(\"Error: The list must have at least one element.\")\n",
        "else:\n",
        "    user_list = []\n",
        "\n",
        "    for i in range(n):\n",
        "        element = input(f\"Enter element {i + 1}: \")\n",
        "\n",
        "        # Convert to an integer or float if possible\n",
        "        try:\n",
        "            if '.' in element:\n",
        "                element = float(element)  # Convert to float if decimal is present\n",
        "            else:\n",
        "                element = int(element)  # Convert to integer if possible\n",
        "        except ValueError:\n",
        "            pass  # Keep it as a string if conversion fails\n",
        "\n",
        "        user_list.append(element)\n",
        "\n",
        "    # Call function to print the first element\n",
        "    get_first_element(user_list)\n"
      ],
      "metadata": {
        "colab": {
          "base_uri": "https://localhost:8080/"
        },
        "id": "v4YWZ9TsHq4q",
        "outputId": "da4f44cc-5a4a-4d2f-e45e-0a81dab6495d"
      },
      "execution_count": 10,
      "outputs": [
        {
          "output_type": "stream",
          "name": "stdout",
          "text": [
            "Enter the number of elements in the list: 1\n",
            "Enter element 1: apple\n",
            "The first element is: apple\n"
          ]
        }
      ]
    },
    {
      "cell_type": "markdown",
      "source": [
        "# Fill out the function get_last_element(lst) which takes in a list lst as a parameter and prints the last element in the list. The list is guaranteed to be non-empty, but there are no guarantees on its length."
      ],
      "metadata": {
        "id": "Uzp3D4kcIkfK"
      }
    },
    {
      "cell_type": "code",
      "source": [
        "def get_last_element(lst):\n",
        "    \"\"\"Prints the last element of a non-empty list.\"\"\"\n",
        "    print(\"The last element is:\", lst[-1])\n",
        "\n",
        "# Prompt user for list input\n",
        "n = int(input(\"Enter the number of elements in the list: \"))\n",
        "\n",
        "# Ensure n is a positive number\n",
        "if n <= 0:\n",
        "    print(\"Error: The list must have at least one element.\")\n",
        "else:\n",
        "    user_list = []\n",
        "\n",
        "    for i in range(n):\n",
        "        element = input(f\"Enter element {i + 1}: \")\n",
        "\n",
        "        # Convert to an integer or float if possible\n",
        "        try:\n",
        "            if '.' in element:\n",
        "                element = float(element)  # Convert to float if decimal is present\n",
        "            else:\n",
        "                element = int(element)  # Convert to integer if possible\n",
        "        except ValueError:\n",
        "            pass  # Keep it as a string if conversion fails\n",
        "\n",
        "        user_list.append(element)\n",
        "\n",
        "    # Call function to print the last element\n",
        "    get_last_element(user_list)\n"
      ],
      "metadata": {
        "colab": {
          "base_uri": "https://localhost:8080/"
        },
        "id": "Owrd-Y3PInup",
        "outputId": "b22af326-24c4-4c0a-9862-caa27b8fc41f"
      },
      "execution_count": 11,
      "outputs": [
        {
          "output_type": "stream",
          "name": "stdout",
          "text": [
            "Enter the number of elements in the list: 5\n",
            "Enter element 1: apple\n",
            "Enter element 2: banana\n",
            "Enter element 3: mango\n",
            "Enter element 4: pineapple\n",
            "Enter element 5: date\n",
            "The last element is: date\n"
          ]
        }
      ]
    },
    {
      "cell_type": "markdown",
      "source": [
        "# Write a program which continuously asks the user to enter values which are added one by one into a list. When the user presses enter without typing anything, print the list.\n",
        "\n",
        "Here's a sample run (user input is in blue):\n",
        "\n",
        "Enter a value: 1 Enter a value: 2 Enter a value: 3 Enter a value: Here's the list: ['1', '2', '3']"
      ],
      "metadata": {
        "id": "KhU8f4VhI6wS"
      }
    },
    {
      "cell_type": "code",
      "source": [
        "def collect_values():\n",
        "    \"\"\"Continuously asks for input and stores values in a list until Enter is pressed.\"\"\"\n",
        "    values = []\n",
        "\n",
        "    while True:\n",
        "        value = input(\"Enter a value: \")\n",
        "\n",
        "        if value == \"\":  # Stop when user presses Enter without input\n",
        "            break\n",
        "\n",
        "        values.append(value)  # Add input to the list\n",
        "\n",
        "    print(\"Here's the list:\", values)\n",
        "\n",
        "# Run the function\n",
        "collect_values()"
      ],
      "metadata": {
        "colab": {
          "base_uri": "https://localhost:8080/"
        },
        "id": "yvJ_Lb5HJD2Z",
        "outputId": "78b1eda2-6f7b-4c26-e43c-9f68d379f9b0"
      },
      "execution_count": 14,
      "outputs": [
        {
          "output_type": "stream",
          "name": "stdout",
          "text": [
            "Enter a value: 1\n",
            "Enter a value: 2\n",
            "Enter a value: 3\n",
            "Enter a value: 4\n",
            "Enter a value: 5\n",
            "Enter a value: 6\n",
            "Enter a value: 7\n",
            "Enter a value: 8\n",
            "Enter a value: 9\n",
            "Enter a value: 0\n",
            "Enter a value: 1\n",
            "Enter a value: 2\n",
            "Enter a value: \n",
            "Here's the list: ['1', '2', '3', '4', '5', '6', '7', '8', '9', '0', '1', '2']\n"
          ]
        }
      ]
    },
    {
      "cell_type": "markdown",
      "source": [
        "# Fill out the function shorten(lst) which removes elements from the end of lst, which is a list, and prints each item it removes until lst is MAX_LENGTH items long. If lst is already shorter than MAX_LENGTH you should leave it unchanged. We've written a main() function for you which gets a list and passes it into your function once you run the program. For the autograder to pass you will need MAX_LENGTH to be 3, but feel free to change it around to test your program."
      ],
      "metadata": {
        "id": "Iy1wVls2Jgso"
      }
    },
    {
      "cell_type": "code",
      "source": [
        "MAX_LENGTH = 3  # Define the maximum allowed length of the list\n",
        "\n",
        "def shorten(lst):\n",
        "    \"\"\"Removes elements from the end of lst until it is MAX_LENGTH items long.\"\"\"\n",
        "    while len(lst) > MAX_LENGTH:\n",
        "        removed_item = lst.pop()  # Remove the last element\n",
        "        print(\"Removing:\", removed_item)\n",
        "\n",
        "# Function to get user input and run shorten()\n",
        "def main():\n",
        "    n = int(input(\"Enter the number of elements in the list: \"))\n",
        "    user_list = []\n",
        "\n",
        "    for i in range(n):\n",
        "        element = input(f\"Enter element {i + 1}: \")\n",
        "        user_list.append(element)\n",
        "\n",
        "    print(\"\\nOriginal list:\", user_list)\n",
        "\n",
        "    shorten(user_list)  # Modify the list to fit MAX_LENGTH\n",
        "\n",
        "    print(\"Shortened list:\", user_list)\n",
        "\n",
        "# Run the main function\n",
        "main()\n"
      ],
      "metadata": {
        "colab": {
          "base_uri": "https://localhost:8080/"
        },
        "id": "ZZvcMc4rJpAP",
        "outputId": "3f21986b-ca2c-45eb-d1da-b9d298b9dba7"
      },
      "execution_count": 17,
      "outputs": [
        {
          "output_type": "stream",
          "name": "stdout",
          "text": [
            "Enter the number of elements in the list: 2\n",
            "Enter element 1: 3\n",
            "Enter element 2: 4\n",
            "\n",
            "Original list: ['3', '4']\n",
            "Shortened list: ['3', '4']\n"
          ]
        }
      ]
    }
  ]
}