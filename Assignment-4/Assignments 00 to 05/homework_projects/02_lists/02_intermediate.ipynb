{
  "nbformat": 4,
  "nbformat_minor": 0,
  "metadata": {
    "colab": {
      "provenance": [],
      "authorship_tag": "ABX9TyNRVomnbWXuqhNxBP5Iisej",
      "include_colab_link": true
    },
    "kernelspec": {
      "name": "python3",
      "display_name": "Python 3"
    },
    "language_info": {
      "name": "python"
    }
  },
  "cells": [
    {
      "cell_type": "markdown",
      "metadata": {
        "id": "view-in-github",
        "colab_type": "text"
      },
      "source": [
        "<a href=\"https://colab.research.google.com/github/ABDUL-REHMAN-786/Assignment4-giaic/blob/main/02_intermediate.ipynb\" target=\"_parent\"><img src=\"https://colab.research.google.com/assets/colab-badge.svg\" alt=\"Open In Colab\"/></a>"
      ]
    },
    {
      "cell_type": "markdown",
      "source": [
        "# We want you to gain more experience working with control flow and Booleans in Python. To do this, we are going to have you develop a game! The game is called High-Low and the way it's played goes as follows:\n",
        "\n",
        "Two numbers are generated from 1 to 100 (inclusive on both ends): one for you and one for a computer, who will be your opponent. You can see your number, but not the computer's!\n",
        "\n",
        "You make a guess, saying your number is either higher than or lower than the computer's number\n",
        "\n",
        "If your guess matches the truth (ex. you guess your number is higher, and then your number is actually higher than the computer's), you get a point!\n",
        "\n",
        "These steps make up one round of the game. The game is over after all rounds have been played."
      ],
      "metadata": {
        "id": "-ivo6esSXi6K"
      }
    },
    {
      "cell_type": "code",
      "source": [
        "import random\n",
        "\n",
        "def play_round():\n",
        "    player_number = random.randint(1, 100)  # Generate player's number\n",
        "    computer_number = random.randint(1, 100)  # Generate computer's hidden number\n",
        "\n",
        "    print(f\"Your number is: {player_number}\")  # Show player's number\n",
        "\n",
        "    guess = input(\"Do you think your number is (h)igher or (l)ower than the computer's? \").lower()\n",
        "\n",
        "    if (guess == \"h\" and player_number > computer_number) or (guess == \"l\" and player_number < computer_number):\n",
        "        print(f\"Correct! The computer's number was {computer_number}. You get a point!\")\n",
        "        return 1  # Award a point\n",
        "    else:\n",
        "        print(f\"Wrong! The computer's number was {computer_number}. No points this round.\")\n",
        "        return 0  # No points\n",
        "\n",
        "def main():\n",
        "    rounds = int(input(\"How many rounds do you want to play? \"))  # Get number of rounds\n",
        "    score = 0  # Track score\n",
        "\n",
        "    for _ in range(rounds):\n",
        "        score += play_round()  # Play a round and update score\n",
        "        print()  # New line for readability\n",
        "\n",
        "    print(f\"Game Over! Your final score: {score}/{rounds}\")\n",
        "\n",
        "# Run the game\n",
        "main()\n"
      ],
      "metadata": {
        "colab": {
          "base_uri": "https://localhost:8080/"
        },
        "id": "Di9cZT4cYQvQ",
        "outputId": "2ab96ac3-1ff4-41ad-b4a8-1b0dd614bdb6"
      },
      "execution_count": 1,
      "outputs": [
        {
          "output_type": "stream",
          "name": "stdout",
          "text": [
            "How many rounds do you want to play? 1\n",
            "Your number is: 20\n",
            "Do you think your number is (h)igher or (l)ower than the computer's? 8\n",
            "Wrong! The computer's number was 23. No points this round.\n",
            "\n",
            "Game Over! Your final score: 0/1\n"
          ]
        }
      ]
    },
    {
      "cell_type": "markdown",
      "source": [
        "# Milestone #1: Mars Weight\n",
        "A few years ago, NASA made history with the first controlled flight on another planet. Its latest Mars Rover, Perseverance, has onboard a 50cm high helicopter called Ingenuity. Ingenuity made its third flight, during which it flew faster and further than it had on any of its test flights on Earth. Interestingly, Ingenuity uses Python for some of its flight modeling software!\n",
        "\n",
        "Ingenuity on the surface of Mars (source: NASA)\n",
        "\n",
        "When programming Ingenuity, one of the things that NASA engineers need to account for is the fact that due to the weaker gravity on Mars, an Earthling's weight on Mars is 37.8% of their weight on Earth. Write a Python program that prompts an Earthling to enter their weight on Earth and prints their calculated weight on Mars.\n",
        "\n",
        "The output should be rounded to two decimal places when necessary. Python has a round function which can help you with this. You pass in the value to be rounded and the number of decimal places to use. In the example below, the number 3.1415926 is rounded to 2 decimal places which is 3.14."
      ],
      "metadata": {
        "id": "ske7pggHY3vV"
      }
    },
    {
      "cell_type": "code",
      "source": [
        "def calculate_mars_weight(earth_weight):\n",
        "    MARS_GRAVITY_RATIO = 0.378  # Mars gravity is 37.8% of Earth's\n",
        "    mars_weight = earth_weight * MARS_GRAVITY_RATIO\n",
        "    return round(mars_weight, 2)  # Round to two decimal places\n",
        "\n",
        "def main():\n",
        "    earth_weight = float(input(\"Enter your weight on Earth (kg): \"))  # Get user input\n",
        "    mars_weight = calculate_mars_weight(earth_weight)  # Calculate Mars weight\n",
        "    print(f\"Your weight on Mars would be: {mars_weight} kg\")  # Display result\n",
        "\n",
        "# Run the program\n",
        "main()\n"
      ],
      "metadata": {
        "colab": {
          "base_uri": "https://localhost:8080/"
        },
        "id": "NOrGiLCAZOr0",
        "outputId": "5785a8a5-8353-44ef-e268-7af301f3286c"
      },
      "execution_count": 2,
      "outputs": [
        {
          "output_type": "stream",
          "name": "stdout",
          "text": [
            "Enter your weight on Earth (kg): 7689077\n",
            "Your weight on Mars would be: 2906471.11 kg\n"
          ]
        }
      ]
    },
    {
      "cell_type": "markdown",
      "source": [
        "# Milestone #2: Adding in All Planets\n",
        "Mars is not the only planet in our solar system with its own unique gravity. In fact, each planet has a different gravitational constant, which affects how much an object would weigh on that planet. Below is a list of the constants for each planet compared to Earth's gravity:\n",
        "\n",
        "Mercury: 37.6%\n",
        "\n",
        "Venus: 88.9%\n",
        "\n",
        "Mars: 37.8%\n",
        "\n",
        "Jupiter: 236.0%\n",
        "\n",
        "Saturn: 108.1%\n",
        "\n",
        "Uranus: 81.5%\n",
        "\n",
        "Neptune: 114.0%\n",
        "\n",
        "Write a Python program that prompts an Earthling to enter their weight on Earth and then to enter the name of a planet in our solar system. The program should print the equivalent weight on that planet rounded to 2 decimal places if necessary.\n",
        "\n",
        "You can assume that the user will always type in a planet with the first letter capitalized and you do not need to worry about the case where they type in something other than one of the above planets."
      ],
      "metadata": {
        "id": "LwS6XsYqZYak"
      }
    },
    {
      "cell_type": "code",
      "source": [
        "# Dictionary storing gravity ratios for each planet\n",
        "PLANET_GRAVITY = {\n",
        "    \"Mercury\": 0.376,\n",
        "    \"Venus\": 0.889,\n",
        "    \"Mars\": 0.378,\n",
        "    \"Jupiter\": 2.36,\n",
        "    \"Saturn\": 1.081,\n",
        "    \"Uranus\": 0.815,\n",
        "    \"Neptune\": 1.14\n",
        "}\n",
        "\n",
        "def calculate_weight_on_planet(earth_weight, planet):\n",
        "    \"\"\"Calculate weight on a given planet using Earth's weight and gravity ratio.\"\"\"\n",
        "    planet = planet.title()  # Convert input to title case (e.g., \"mars\" → \"Mars\")\n",
        "    if planet not in PLANET_GRAVITY:  # Handle invalid input\n",
        "        print(\"Invalid planet name. Please enter a valid planet.\")\n",
        "        return None\n",
        "    gravity_ratio = PLANET_GRAVITY[planet]  # Get gravity ratio\n",
        "    return round(earth_weight * gravity_ratio, 2)  # Calculate and round\n",
        "\n",
        "def main():\n",
        "    \"\"\"Main function to prompt user input and calculate weight on a chosen planet.\"\"\"\n",
        "    earth_weight = float(input(\"Enter your weight on Earth (kg): \"))  # Get weight on Earth\n",
        "    planet = input(\"Enter the name of a planet: \").title()  # Convert input to Title Case\n",
        "\n",
        "    planet_weight = calculate_weight_on_planet(earth_weight, planet)  # Compute weight\n",
        "    if planet_weight is not None:\n",
        "        print(f\"Your weight on {planet} would be: {planet_weight} kg\")  # Display result\n",
        "\n",
        "# Run the program\n",
        "main()\n"
      ],
      "metadata": {
        "colab": {
          "base_uri": "https://localhost:8080/"
        },
        "id": "0kvjsJLGZo5M",
        "outputId": "2bec877e-65de-4e16-a5c5-35ab157e9217"
      },
      "execution_count": 5,
      "outputs": [
        {
          "output_type": "stream",
          "name": "stdout",
          "text": [
            "Enter your weight on Earth (kg): 33344455\n",
            "Enter the name of a planet: mars\n",
            "Your weight on Mars would be: 12604203.99 kg\n"
          ]
        }
      ]
    },
    {
      "cell_type": "markdown",
      "source": [
        "# Problem #1: List Practice\n",
        "Now practice writing code with lists! Implement the functionality described in the comments below.\n",
        "\n",
        "def main(): # Create a list called fruit_list that contains the following fruits: # 'apple', 'banana', 'orange', 'grape', 'pineapple'."
      ],
      "metadata": {
        "id": "FCU3FbJEaR3G"
      }
    },
    {
      "cell_type": "code",
      "source": [
        "def main():\n",
        "    # Create a list called fruit_list containing the specified fruits\n",
        "    fruit_list = ['apple', 'banana', 'orange', 'grape', 'pineapple']\n",
        "\n",
        "    # Print the entire list\n",
        "    print(\"Fruit list:\", fruit_list)\n",
        "\n",
        "    # Print the first fruit in the list\n",
        "    print(\"First fruit:\", fruit_list[0])\n",
        "\n",
        "    # Print the last fruit in the list\n",
        "    print(\"Last fruit:\", fruit_list[-1])\n",
        "\n",
        "    # Add a new fruit to the list\n",
        "    fruit_list.append('mango')\n",
        "    print(\"Updated fruit list:\", fruit_list)\n",
        "\n",
        "    # Remove 'banana' from the list\n",
        "    fruit_list.remove('banana')\n",
        "    print(\"Fruit list after removing 'banana':\", fruit_list)\n",
        "\n",
        "    # Print the number of fruits in the list\n",
        "    print(\"Number of fruits in the list:\", len(fruit_list))\n",
        "\n",
        "# Run the function\n",
        "main()\n"
      ],
      "metadata": {
        "colab": {
          "base_uri": "https://localhost:8080/"
        },
        "id": "4wqm_XzdaoBT",
        "outputId": "b3260c08-f502-4f06-9ec7-a4f75e993888"
      },
      "execution_count": 6,
      "outputs": [
        {
          "output_type": "stream",
          "name": "stdout",
          "text": [
            "Fruit list: ['apple', 'banana', 'orange', 'grape', 'pineapple']\n",
            "First fruit: apple\n",
            "Last fruit: pineapple\n",
            "Updated fruit list: ['apple', 'banana', 'orange', 'grape', 'pineapple', 'mango']\n",
            "Fruit list after removing 'banana': ['apple', 'orange', 'grape', 'pineapple', 'mango']\n",
            "Number of fruits in the list: 5\n"
          ]
        }
      ]
    },
    {
      "cell_type": "markdown",
      "source": [
        "# Problem #2: Index Game\n",
        "As a warmup, read this code and play the game a few times. Use this mental model of the list:\n",
        "\n",
        "Objective:\n",
        "Create a Python program that helps you practice accessing and manipulating elements in a list. This exercise will help you get comfortable with indexing, slicing, and modifying list elements.\n",
        "\n",
        "Instructions:\n",
        "Initialize a List:\n",
        "Create a list with at least 5 different elements. They can be numbers, strings, or a mix of both.\n",
        "\n",
        "Accessing Elements:\n",
        "Write a function that:\n",
        "\n",
        "Accepts a list and an index as inputs.\n",
        "Returns the element at the specified index.\n",
        "If the index is out of range, return an appropriate message.\n",
        "Modifying Elements:\n",
        "Write a function that:\n",
        "\n",
        "Accepts a list, an index, and a new value as inputs.\n",
        "Replaces the element at the specified index with the new value.\n",
        "If the index is out of range, return an appropriate message.\n",
        "Slicing the List:\n",
        "Write a function that:\n",
        "\n",
        "Accepts a list, a start index, and an end index as inputs.\n",
        "Returns a new list containing the elements from the start index up to (but not including) the end index.\n",
        "Handles cases where the indices are out of range.\n",
        "Game Interaction:\n",
        "Create a simple text-based game that:\n",
        "\n",
        "Prompts the user to select an operation (access, modify, slice).\n",
        "Asks for the necessary inputs (index, new value, etc.).\n",
        "Displays the result and the updated list."
      ],
      "metadata": {
        "id": "lV0JsBj4axNK"
      }
    },
    {
      "cell_type": "code",
      "source": [
        "def access_element(lst, index):\n",
        "    \"\"\"Returns the element at the specified index or an error message if out of range.\"\"\"\n",
        "    if 0 <= index < len(lst):\n",
        "        return f\"Element at index {index}: {lst[index]}\"\n",
        "    else:\n",
        "        return \"Error: Index out of range.\"\n",
        "\n",
        "def modify_element(lst, index, new_value):\n",
        "    \"\"\"Modifies an element at a specified index or returns an error if out of range.\"\"\"\n",
        "    if 0 <= index < len(lst):\n",
        "        lst[index] = new_value\n",
        "        return f\"Updated list: {lst}\"\n",
        "    else:\n",
        "        return \"Error: Index out of range.\"\n",
        "\n",
        "def slice_list(lst, start, end):\n",
        "    \"\"\"Returns a sliced portion of the list while handling out-of-range errors.\"\"\"\n",
        "    if start < 0 or end > len(lst) or start >= end:\n",
        "        return \"Error: Invalid slice indices.\"\n",
        "    return f\"Sliced list: {lst[start:end]}\"\n",
        "\n",
        "def get_int_input(prompt):\n",
        "    \"\"\"Helper function to safely get an integer input.\"\"\"\n",
        "    while True:\n",
        "        user_input = input(prompt)\n",
        "        if user_input.isdigit():  # Check if the input is a number\n",
        "            return int(user_input)\n",
        "        print(\"Invalid input. Please enter a valid integer.\")\n",
        "\n",
        "def main():\n",
        "    # Initialize a list with at least 5 elements\n",
        "    my_list = [\"apple\", \"banana\", \"cherry\", \"date\", \"elderberry\"]\n",
        "\n",
        "    while True:\n",
        "        # Display options\n",
        "        print(\"\\nChoose an operation:\")\n",
        "        print(\"1. Access an element\")\n",
        "        print(\"2. Modify an element\")\n",
        "        print(\"3. Slice the list\")\n",
        "        print(\"4. Exit\")\n",
        "\n",
        "        choice = input(\"Enter your choice (1-4): \")\n",
        "\n",
        "        if choice == \"1\":\n",
        "            index = get_int_input(\"Enter the index to access: \")\n",
        "            print(access_element(my_list, index))\n",
        "\n",
        "        elif choice == \"2\":\n",
        "            index = get_int_input(\"Enter the index to modify: \")\n",
        "            new_value = input(\"Enter the new value: \")\n",
        "            print(modify_element(my_list, index, new_value))\n",
        "\n",
        "        elif choice == \"3\":\n",
        "            start = get_int_input(\"Enter the start index: \")\n",
        "            end = get_int_input(\"Enter the end index: \")\n",
        "            print(slice_list(my_list, start, end))\n",
        "\n",
        "        elif choice == \"4\":\n",
        "            print(\"Goodbye! 👋\")\n",
        "            break\n",
        "\n",
        "        else:\n",
        "            print(\"Invalid choice. Please select again.\")\n",
        "\n",
        "# Run the game\n",
        "main()\n",
        "\n"
      ],
      "metadata": {
        "colab": {
          "base_uri": "https://localhost:8080/"
        },
        "id": "Keu_KXe8a91J",
        "outputId": "1e600d7c-61b0-4dd1-ba60-29cce45652dc"
      },
      "execution_count": 9,
      "outputs": [
        {
          "output_type": "stream",
          "name": "stdout",
          "text": [
            "\n",
            "Choose an operation:\n",
            "1. Access an element\n",
            "2. Modify an element\n",
            "3. Slice the list\n",
            "4. Exit\n",
            "Enter your choice (1-4): 1\n",
            "Enter the index to access: 1\n",
            "Element at index 1: banana\n",
            "\n",
            "Choose an operation:\n",
            "1. Access an element\n",
            "2. Modify an element\n",
            "3. Slice the list\n",
            "4. Exit\n",
            "Enter your choice (1-4): 4\n",
            "Goodbye! 👋\n"
          ]
        }
      ]
    }
  ]
}