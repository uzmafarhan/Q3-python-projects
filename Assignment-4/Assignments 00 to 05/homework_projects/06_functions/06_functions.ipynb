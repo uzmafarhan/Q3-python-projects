{
  "nbformat": 4,
  "nbformat_minor": 0,
  "metadata": {
    "colab": {
      "provenance": [],
      "authorship_tag": "ABX9TyOv7gWaCYSd01zfgpzfj3GE",
      "include_colab_link": true
    },
    "kernelspec": {
      "name": "python3",
      "display_name": "Python 3"
    },
    "language_info": {
      "name": "python"
    }
  },
  "cells": [
    {
      "cell_type": "markdown",
      "metadata": {
        "id": "view-in-github",
        "colab_type": "text"
      },
      "source": [
        "<a href=\"https://colab.research.google.com/github/ABDUL-REHMAN-786/Assignment4-giaic/blob/main/06_functions.ipynb\" target=\"_parent\"><img src=\"https://colab.research.google.com/assets/colab-badge.svg\" alt=\"Open In Colab\"/></a>"
      ]
    },
    {
      "cell_type": "markdown",
      "source": [
        "# Write a function that takes two numbers and finds the average between the two."
      ],
      "metadata": {
        "id": "dyQXM33vOHXV"
      }
    },
    {
      "cell_type": "code",
      "source": [
        "def average(a, b):\n",
        "    return (a + b) / 2\n",
        "\n",
        "# Example usage\n",
        "num1 = 10\n",
        "num2 = 20\n",
        "print(\"Average:\", average(num1, num2))  # Output: 15.0\n"
      ],
      "metadata": {
        "colab": {
          "base_uri": "https://localhost:8080/"
        },
        "id": "2m__pU8qOSxY",
        "outputId": "4f3e41df-ca5a-4bca-bd9f-c8f47dc547d5"
      },
      "execution_count": 1,
      "outputs": [
        {
          "output_type": "stream",
          "name": "stdout",
          "text": [
            "Average: 15.0\n"
          ]
        }
      ]
    },
    {
      "cell_type": "markdown",
      "source": [
        "# Fill out the chaotic_counting() function, which prints the numbers from 1 to 10, but with a catch. We've written a done() function which returns True with likelihood DONE_LIKELIHOOD -- at each number, before printing the number, you should call done() and check if it returns True or not. If done() returns True, we're done counting, and you should use a return statement to end the chaotic_counting() function execution and resume execution of main(), which will print \"I'm done.\". We've written main() for you -- check it out! Notice that we'll only print \"I'm done\" from main() once chaotic_counting() is done with its execution.\n",
        "\n",
        "Here's a sample run of this program:\n",
        "\n",
        "I'm going to count until 10 or until I feel like stopping, whichever comes first. 1 2 3 I'm done."
      ],
      "metadata": {
        "id": "RCu6bYRkOkmT"
      }
    },
    {
      "cell_type": "code",
      "source": [
        "import random\n",
        "\n",
        "DONE_LIKELIHOOD = 0.2  # 20% chance of stopping\n",
        "\n",
        "def done():\n",
        "    return random.random() < DONE_LIKELIHOOD\n",
        "\n",
        "def chaotic_counting():\n",
        "    for i in range(1, 11):\n",
        "        if done():\n",
        "            return  # Stop counting and return to main\n",
        "        print(i, end=\" \")  # Print number with space\n",
        "\n",
        "def main():\n",
        "    print(\"I'm going to count until 10 or until I feel like stopping, whichever comes first.\")\n",
        "    chaotic_counting()\n",
        "    print(\"I'm done.\")\n",
        "\n",
        "# Run the main function\n",
        "main()\n"
      ],
      "metadata": {
        "colab": {
          "base_uri": "https://localhost:8080/"
        },
        "id": "XBZdBddDOrRp",
        "outputId": "443f5755-016b-423b-98f2-e5ec0bb6bd3d"
      },
      "execution_count": 2,
      "outputs": [
        {
          "output_type": "stream",
          "name": "stdout",
          "text": [
            "I'm going to count until 10 or until I feel like stopping, whichever comes first.\n",
            "1 2 3 4 5 6 7 8 9 10 I'm done.\n"
          ]
        }
      ]
    },
    {
      "cell_type": "markdown",
      "source": [
        "# Fill out the function count_even(lst) which\n",
        "\n",
        "first populates a list by prompting the user for integers until they press enter (please use the prompt \"Enter an integer or press enter to stop: \"),\n",
        "\n",
        "and then prints the number of even numbers in the list.\n",
        "\n",
        "If you'd prefer to focus on the second task only, scroll down for our implementation of the first task!"
      ],
      "metadata": {
        "id": "kA8Sfh4cO2bl"
      }
    },
    {
      "cell_type": "code",
      "source": [
        "def count_even():\n",
        "    lst = []\n",
        "\n",
        "    # Prompt the user for integers until they press enter\n",
        "    while True:\n",
        "        user_input = input(\"Enter an integer or press enter to stop: \")\n",
        "        if user_input == \"\":\n",
        "            break\n",
        "        try:\n",
        "            lst.append(int(user_input))\n",
        "        except ValueError:\n",
        "            print(\"Please enter a valid integer.\")\n",
        "\n",
        "    # Count even numbers in the list\n",
        "    even_count = sum(1 for num in lst if num % 2 == 0)\n",
        "\n",
        "    # Print the count of even numbers\n",
        "    print(f\"Number of even numbers: {even_count}\")\n",
        "\n",
        "# Run the function\n",
        "count_even()\n"
      ],
      "metadata": {
        "colab": {
          "base_uri": "https://localhost:8080/"
        },
        "id": "2nPakay9O_lG",
        "outputId": "6c81ee73-657d-46ab-b4b3-8ec858a54789"
      },
      "execution_count": 3,
      "outputs": [
        {
          "output_type": "stream",
          "name": "stdout",
          "text": [
            "Enter an integer or press enter to stop: 22\n",
            "Enter an integer or press enter to stop: 22\n",
            "Enter an integer or press enter to stop: 22\n",
            "Enter an integer or press enter to stop: 22\n",
            "Enter an integer or press enter to stop: 11\n",
            "Enter an integer or press enter to stop: \n",
            "Number of even numbers: 4\n"
          ]
        }
      ]
    },
    {
      "cell_type": "markdown",
      "source": [
        "# Fill out the double(num) function to return the result of multiplying num by 2. We've written a main() function for you which asks the user for a number, calls your code for double(num) , and prints the result.\n",
        "\n",
        "Here's a sample run of the program (user input in bold italics):\n",
        "\n",
        "Enter a number: 2 Double that is 4"
      ],
      "metadata": {
        "id": "UmePwThRPM78"
      }
    },
    {
      "cell_type": "code",
      "source": [
        "def double(num):\n",
        "    return num * 2\n",
        "\n",
        "def main():\n",
        "    num = float(input(\"Enter a number: \"))  # Accepts integer or decimal inputs\n",
        "    print(\"Double that is\", double(num))\n",
        "\n",
        "# Run the program\n",
        "main()\n"
      ],
      "metadata": {
        "colab": {
          "base_uri": "https://localhost:8080/"
        },
        "id": "nhRS-oByPXBq",
        "outputId": "42cfadc2-146e-461c-95bf-b6f93f163e08"
      },
      "execution_count": 4,
      "outputs": [
        {
          "output_type": "stream",
          "name": "stdout",
          "text": [
            "Enter a number: 1\n",
            "Double that is 2.0\n"
          ]
        }
      ]
    },
    {
      "cell_type": "markdown",
      "source": [
        "# Fill out the get_name() function to return your name as a string! We've written a main() function for you which calls your function to retrieve your name and then prints it in a greeting.\n",
        "\n",
        "Here's a sample run of the program where the name we've decided to return is Sophia (the autograder expects the returned name to be Sophia):\n",
        "\n",
        "Howdy Sophia ! 🤠"
      ],
      "metadata": {
        "id": "qsy9iVoDPdtm"
      }
    },
    {
      "cell_type": "code",
      "source": [
        "def get_name():\n",
        "    return \"Sophia\"  # The autograder expects this name\n",
        "\n",
        "def main():\n",
        "    print(f\"Howdy {get_name()}! 🤠\")\n",
        "\n",
        "# Run the program\n",
        "main()\n"
      ],
      "metadata": {
        "colab": {
          "base_uri": "https://localhost:8080/"
        },
        "id": "gqdocuklPlpv",
        "outputId": "4cdeaa0f-4e6a-412f-d233-ca214699b66a"
      },
      "execution_count": 5,
      "outputs": [
        {
          "output_type": "stream",
          "name": "stdout",
          "text": [
            "Howdy Sophia! 🤠\n"
          ]
        }
      ]
    },
    {
      "cell_type": "markdown",
      "source": [
        "# 10 even 11 odd 12 even 13 odd 14 even 15 odd 16 even 17 odd 18 even 19 odd"
      ],
      "metadata": {
        "id": "sF3GIE89PucH"
      }
    },
    {
      "cell_type": "code",
      "source": [
        "def even_odd_classifier(start, end):\n",
        "    for num in range(start, end + 1):\n",
        "        if num % 2 == 0:\n",
        "            print(f\"{num} even\")\n",
        "        else:\n",
        "            print(f\"{num} odd\")\n",
        "\n",
        "# Example usage\n",
        "even_odd_classifier(10, 19)\n"
      ],
      "metadata": {
        "colab": {
          "base_uri": "https://localhost:8080/"
        },
        "id": "7MYdWkrnP3T4",
        "outputId": "55a9829f-f8a2-423e-ca70-ce840b179428"
      },
      "execution_count": 6,
      "outputs": [
        {
          "output_type": "stream",
          "name": "stdout",
          "text": [
            "10 even\n",
            "11 odd\n",
            "12 even\n",
            "13 odd\n",
            "14 even\n",
            "15 odd\n",
            "16 even\n",
            "17 odd\n",
            "18 even\n",
            "19 odd\n"
          ]
        }
      ]
    },
    {
      "cell_type": "markdown",
      "source": [
        "# Write the helper function print_divisors(num), which takes in a number and prints all of its divisors (all the numbers from 1 to num inclusive that num can be cleanly divided by (there is no remainder to the division). Don't forget to call your function in main()!\n",
        "\n",
        "Here's a sample run (user input is in blue):\n",
        "\n",
        "Enter a number: 12 Here are the divisors of 12 1 2 3 4 6 12"
      ],
      "metadata": {
        "id": "pjUldnDPP9JL"
      }
    },
    {
      "cell_type": "code",
      "source": [
        "def print_divisors(num):\n",
        "    print(f\"Here are the divisors of {num}\")\n",
        "    for i in range(1, num + 1):\n",
        "        if num % i == 0:\n",
        "            print(i, end=\" \")  # Print divisors on the same line\n",
        "\n",
        "def main():\n",
        "    num = int(input(\"Enter a number: \"))  # Get user input\n",
        "    print_divisors(num)  # Call the helper function\n",
        "\n",
        "# Run the program\n",
        "main()\n",
        "\n"
      ],
      "metadata": {
        "colab": {
          "base_uri": "https://localhost:8080/"
        },
        "id": "UgWlnilCQG_A",
        "outputId": "58442990-a65c-45ca-a7f1-1979903e2b59"
      },
      "execution_count": 8,
      "outputs": [
        {
          "output_type": "stream",
          "name": "stdout",
          "text": [
            "Enter a number: 22\n",
            "Here are the divisors of 22\n",
            "1 2 11 22 "
          ]
        }
      ]
    },
    {
      "cell_type": "markdown",
      "source": [
        "# Fill out print_multiple(message, repeats), which takes as parameters a string message to print, and an integer repeats number of times to print message. We've written the main() function for you, which prompts the user for a message and a number of repeats.\n",
        "\n",
        "Here's a sample run of the program (user input is in blue):\n",
        "\n",
        "Please type a message: Hello! Enter a number of times to repeat your message: 6 Hello! Hello! Hello! Hello! Hello! Hello!"
      ],
      "metadata": {
        "id": "8weZ12E-QRYO"
      }
    },
    {
      "cell_type": "code",
      "source": [
        "def print_multiple(message, repeats):\n",
        "    for _ in range(repeats):\n",
        "        print(message, end=\" \")  # Print messages on the same line\n",
        "\n",
        "def main():\n",
        "    message = input(\"Please type a message: \")  # Get message from user\n",
        "    repeats = int(input(\"Enter a number of times to repeat your message: \"))  # Get repeat count\n",
        "    print_multiple(message, repeats)  # Call the function\n",
        "\n",
        "# Run the program\n",
        "main()\n"
      ],
      "metadata": {
        "colab": {
          "base_uri": "https://localhost:8080/"
        },
        "id": "aU9QH9x3QbyN",
        "outputId": "54b6f7ed-012e-4e85-ef1c-4eaa5bcb80ff"
      },
      "execution_count": 9,
      "outputs": [
        {
          "output_type": "stream",
          "name": "stdout",
          "text": [
            "Please type a message: hi\n",
            "Enter a number of times to repeat your message: 22\n",
            "hi hi hi hi hi hi hi hi hi hi hi hi hi hi hi hi hi hi hi hi hi hi "
          ]
        }
      ]
    },
    {
      "cell_type": "markdown",
      "source": [
        "# Implement the helper function make_sentence(word, part_of_speech) which will take a string word and an integer part_of_speech as parameters and, depending on the part of speech, place the word into one of three sentence templates (or one from your imagination!):\n",
        "\n",
        "If part_of_speech is 0, we will assume the word is a noun and use the template: \"I am excited to add this ____ to my vast collection of them!\"\n",
        "\n",
        "If part_of_speech is 1, we will assume the word is a verb use the template: \"It's so nice outside today it makes me want to ____!\"\n",
        "\n",
        "If part_of_speech is 2, we will assume the word is an adjective and use the template: \"Looking out my window, the sky is big and ____!\" make_sentence(word, part_of_speech) should not return anything, just print the correct sentence with the word filled in the blank.\n",
        "\n",
        "Here's a sample run of the program (user input is in blue):\n",
        "\n",
        "Please type a noun, verb, or adjective: groovy Is this a noun, verb, or adjective? Type 0 for noun, 1 for verb, 2 for adjective: 2 Looking out my window, the sky is big and groovy!"
      ],
      "metadata": {
        "id": "hrPGKNfJQj7s"
      }
    },
    {
      "cell_type": "code",
      "source": [
        "def make_sentence(word, part_of_speech):\n",
        "    if part_of_speech == 0:\n",
        "        print(f\"I am excited to add this {word} to my vast collection of them!\")\n",
        "    elif part_of_speech == 1:\n",
        "        print(f\"It's so nice outside today it makes me want to {word}!\")\n",
        "    elif part_of_speech == 2:\n",
        "        print(f\"Looking out my window, the sky is big and {word}!\")\n",
        "    else:\n",
        "        print(\"Invalid part of speech selection.\")\n",
        "\n",
        "def main():\n",
        "    word = input(\"Please type a noun, verb, or adjective: \")  # Get word from user\n",
        "    part_of_speech = int(input(\"Is this a noun, verb, or adjective? Type 0 for noun, 1 for verb, 2 for adjective: \"))  # Get part of speech\n",
        "    make_sentence(word, part_of_speech)  # Call helper function\n",
        "\n",
        "# Run the program\n",
        "main()\n"
      ],
      "metadata": {
        "colab": {
          "base_uri": "https://localhost:8080/"
        },
        "id": "ilSC0vmKQw4L",
        "outputId": "5b100085-a388-4431-c9da-a16862bfb6ba"
      },
      "execution_count": 10,
      "outputs": [
        {
          "output_type": "stream",
          "name": "stdout",
          "text": [
            "Please type a noun, verb, or adjective: sky blue here\n",
            "Is this a noun, verb, or adjective? Type 0 for noun, 1 for verb, 2 for adjective: 1\n",
            "It's so nice outside today it makes me want to sky blue here!\n"
          ]
        }
      ]
    },
    {
      "cell_type": "markdown",
      "source": [
        "# Write a function called print_ones_digit , which takes as a parameter an integer num and prints its ones digit. The modulo (remainder) operator, %, should be helpful to you here. Call your function from main()!\n",
        "\n",
        "Here's a sample run (user input is in blue):\n",
        "\n",
        "Enter a number: 42 The ones digit is 2"
      ],
      "metadata": {
        "id": "yIh9MB0JQ76W"
      }
    },
    {
      "cell_type": "code",
      "source": [
        "def print_ones_digit(num):\n",
        "    ones_digit = num % 10  # Extract the ones digit\n",
        "    print(f\"The ones digit is {ones_digit}\")\n",
        "\n",
        "def main():\n",
        "    num = int(input(\"Enter a number: \"))  # Get user input\n",
        "    print_ones_digit(num)  # Call the function\n",
        "\n",
        "# Run the program\n",
        "main()\n"
      ],
      "metadata": {
        "colab": {
          "base_uri": "https://localhost:8080/"
        },
        "id": "lAoZ1boKRGZC",
        "outputId": "23382fc9-733b-4ebc-9773-2914edebf52e"
      },
      "execution_count": 11,
      "outputs": [
        {
          "output_type": "stream",
          "name": "stdout",
          "text": [
            "Enter a number: 43\n",
            "The ones digit is 3\n"
          ]
        }
      ]
    }
  ]
}