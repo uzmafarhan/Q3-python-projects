{
  "nbformat": 4,
  "nbformat_minor": 0,
  "metadata": {
    "colab": {
      "provenance": [],
      "authorship_tag": "ABX9TyOl6kM/V2tEW+ibyFWLrsDU",
      "include_colab_link": true
    },
    "kernelspec": {
      "name": "python3",
      "display_name": "Python 3"
    },
    "language_info": {
      "name": "python"
    }
  },
  "cells": [
    {
      "cell_type": "markdown",
      "metadata": {
        "id": "view-in-github",
        "colab_type": "text"
      },
      "source": [
        "<a href=\"https://colab.research.google.com/github/ABDUL-REHMAN-786/Assignment4-giaic/blob/main/04_dictionaries.ipynb\" target=\"_parent\"><img src=\"https://colab.research.google.com/assets/colab-badge.svg\" alt=\"Open In Colab\"/></a>"
      ]
    },
    {
      "cell_type": "markdown",
      "source": [
        "# This program counts the number of times each number appears in a list. It uses a dictionary to keep track of the information.\n",
        "\n",
        "An example run of the program looks like this (user input is in blue):\n",
        "\n",
        "Enter a number: 3 Enter a number: 4 Enter a number: 3 Enter a number: 6 Enter a number: 4 Enter a number: 3 Enter a number: 12 Enter a number: 3 appears 3 times. 4 appears 2 times. 6 appears 1 times. 12 appears 1 times."
      ],
      "metadata": {
        "id": "X9geMLOMOJJO"
      }
    },
    {
      "cell_type": "code",
      "source": [
        "# Initialize an empty dictionary to store the counts\n",
        "counts = {}\n",
        "\n",
        "while True:\n",
        "    # Prompt the user to enter a number\n",
        "    num = input(\"Enter a number: \")\n",
        "\n",
        "    # If the user enters an empty string, break out of the loop\n",
        "    if num == \"\":\n",
        "        break\n",
        "\n",
        "    # Convert the input to an integer\n",
        "    num = int(num)\n",
        "\n",
        "    # Update the count for the number in the dictionary\n",
        "    if num in counts:\n",
        "        counts[num] += 1\n",
        "    else:\n",
        "        counts[num] = 1\n",
        "\n",
        "# Print the results\n",
        "for num, count in counts.items():\n",
        "    print(f\"{num} appears {count} times.\")\n"
      ],
      "metadata": {
        "colab": {
          "base_uri": "https://localhost:8080/"
        },
        "id": "FvuMFeZ9OLR-",
        "outputId": "da7a3d36-6aad-4671-9303-ed1bb70293d1"
      },
      "execution_count": 1,
      "outputs": [
        {
          "output_type": "stream",
          "name": "stdout",
          "text": [
            "Enter a number: 55\n",
            "Enter a number: 66\n",
            "Enter a number: 233\n",
            "Enter a number: 33\n",
            "Enter a number: 22\n",
            "Enter a number: 55\n",
            "Enter a number: \n",
            "55 appears 2 times.\n",
            "66 appears 1 times.\n",
            "233 appears 1 times.\n",
            "33 appears 1 times.\n",
            "22 appears 1 times.\n"
          ]
        }
      ]
    },
    {
      "cell_type": "markdown",
      "source": [
        "# In this program we show an example of using dictionaries to keep track of information in a phonebook."
      ],
      "metadata": {
        "id": "xGm4BhSIOftd"
      }
    },
    {
      "cell_type": "code",
      "source": [
        "# Initialize an empty dictionary to represent the phonebook\n",
        "phonebook = {}\n",
        "\n",
        "while True:\n",
        "    # Prompt the user with options\n",
        "    print(\"\\nPhonebook Options:\")\n",
        "    print(\"1. Add a contact\")\n",
        "    print(\"2. View a contact\")\n",
        "    print(\"3. Search for a contact\")\n",
        "    print(\"4. Exit\")\n",
        "\n",
        "    # Get user choice\n",
        "    choice = input(\"Choose an option (1-4): \")\n",
        "\n",
        "    if choice == \"1\":\n",
        "        # Add a contact\n",
        "        name = input(\"Enter contact name: \")\n",
        "        phone_number = input(f\"Enter phone number for {name}: \")\n",
        "\n",
        "        # Add the contact to the dictionary\n",
        "        phonebook[name] = phone_number\n",
        "        print(f\"Contact for {name} added.\")\n",
        "\n",
        "    elif choice == \"2\":\n",
        "        # View all contacts\n",
        "        if phonebook:\n",
        "            print(\"\\nPhonebook Contacts:\")\n",
        "            for name, phone_number in phonebook.items():\n",
        "                print(f\"{name}: {phone_number}\")\n",
        "        else:\n",
        "            print(\"Phonebook is empty.\")\n",
        "\n",
        "    elif choice == \"3\":\n",
        "        # Search for a contact\n",
        "        name = input(\"Enter the name to search for: \")\n",
        "\n",
        "        if name in phonebook:\n",
        "            print(f\"{name}'s phone number is {phonebook[name]}\")\n",
        "        else:\n",
        "            print(f\"No contact found for {name}.\")\n",
        "\n",
        "    elif choice == \"4\":\n",
        "        # Exit the program\n",
        "        print(\"Goodbye!\")\n",
        "        break\n",
        "\n",
        "    else:\n",
        "        print(\"Invalid option. Please choose a valid number.\")\n"
      ],
      "metadata": {
        "colab": {
          "base_uri": "https://localhost:8080/"
        },
        "id": "89-m73xVOqJS",
        "outputId": "10221513-26ec-4ef0-dcd0-1e378c134ae1"
      },
      "execution_count": 2,
      "outputs": [
        {
          "output_type": "stream",
          "name": "stdout",
          "text": [
            "\n",
            "Phonebook Options:\n",
            "1. Add a contact\n",
            "2. View a contact\n",
            "3. Search for a contact\n",
            "4. Exit\n",
            "Choose an option (1-4): 1\n",
            "Enter contact name: REHMAN\n",
            "Enter phone number for REHMAN: \n",
            "Contact for REHMAN added.\n",
            "\n",
            "Phonebook Options:\n",
            "1. Add a contact\n",
            "2. View a contact\n",
            "3. Search for a contact\n",
            "4. Exit\n",
            "Choose an option (1-4): 4\n",
            "Goodbye!\n"
          ]
        }
      ]
    },
    {
      "cell_type": "markdown",
      "source": [
        "# There's a small fruit shop nearby your house that you like to buy from. Since you buy several fruit at a time, you want to keep track of how much the fruit will cost before you go. Luckily you wrote down what fruits were available and how much one of each fruit costs.\n",
        "\n",
        "Write a program that loops through a dictionary of fruits, prompting the user to see how many of each fruit they want to buy, and then prints out the total combined cost of all of the fruits.\n",
        "\n",
        "Here is an example run of the program (user input is in bold italics):\n",
        "\n",
        "How many (apple) do you want?: 2\n",
        "\n",
        "How many (durian) do you want?: 0\n",
        "\n",
        "How many (jackfruit) do you want?: 1\n",
        "\n",
        "How many (kiwi) do you want?: 0\n",
        "\n",
        "How many (rambutan) do you want?: 1\n",
        "\n",
        "How many (mango) do you want?: 3\n",
        "\n",
        "Your total is $99.5"
      ],
      "metadata": {
        "id": "Z0TTx6bkPHij"
      }
    },
    {
      "cell_type": "code",
      "source": [
        "# Dictionary of fruits and their prices\n",
        "fruit_prices = {\n",
        "    \"apple\": 1.5,\n",
        "    \"durian\": 5.0,\n",
        "    \"jackfruit\": 3.0,\n",
        "    \"kiwi\": 2.0,\n",
        "    \"rambutan\": 4.5,\n",
        "    \"mango\": 2.5\n",
        "}\n",
        "\n",
        "# Initialize total cost to 0\n",
        "total_cost = 0\n",
        "\n",
        "# Loop through the dictionary of fruits\n",
        "for fruit, price in fruit_prices.items():\n",
        "    # Ask the user how many of each fruit they want\n",
        "    quantity = int(input(f\"How many ({fruit}) do you want?: \"))\n",
        "\n",
        "    # Add the cost of the fruit to the total cost\n",
        "    total_cost += price * quantity\n",
        "\n",
        "# Print the total cost\n",
        "print(f\"Your total is ${total_cost:.2f}\")\n"
      ],
      "metadata": {
        "colab": {
          "base_uri": "https://localhost:8080/"
        },
        "id": "_n4DhUCBPQve",
        "outputId": "3e5aed83-88e8-4838-975b-7961db386917"
      },
      "execution_count": 3,
      "outputs": [
        {
          "output_type": "stream",
          "name": "stdout",
          "text": [
            "How many (apple) do you want?: 5\n",
            "How many (durian) do you want?: 6\n",
            "How many (jackfruit) do you want?: 3\n",
            "How many (kiwi) do you want?: 3\n",
            "How many (rambutan) do you want?: 3\n",
            "How many (mango) do you want?: 6\n",
            "Your total is $81.00\n"
          ]
        }
      ]
    },
    {
      "cell_type": "markdown",
      "source": [
        "# You want to be safe online and use different passwords for different websites. However, you are forgetful at times and want to make a program that can match which password belongs to which website without storing the actual password!\n",
        "\n",
        "This can be done via something called hashing. Hashing is when we take something and convert it into a different, unique identifier. This is done using a hash function. Luckily, there are several resources that can help us with this.\n",
        "\n",
        "For example, using a hash function called SHA256(...) something as simple as\n",
        "\n",
        "hello\n",
        "\n",
        "can be hashed into a much more complex\n",
        "\n",
        "2cf24dba5fb0a30e26e83b2ac5b9e29e1b161e5c1fa7425e73043362938b9824\n",
        "\n",
        "Fill out the login(...) function for a website that hashes their passwords. Login should return True if an email's stored password hash in stored_logins is the same as the hash of password_to_check.\n",
        "\n",
        "(Hint. You will need to use the provided hash_password(...) function. You don't necessarily need to know how it works, just know that hash_password(...) returns the hash for the password!)"
      ],
      "metadata": {
        "id": "NBcChEJjPWyF"
      }
    },
    {
      "cell_type": "code",
      "source": [
        "# Importing the hashlib module which will be used to hash the password\n",
        "import hashlib\n",
        "\n",
        "def hash_password(password: str) -> str:\n",
        "    \"\"\"Hash the password using SHA256 and return the hex digest.\"\"\"\n",
        "    return hashlib.sha256(password.encode('utf-8')).hexdigest()\n",
        "\n",
        "# Example stored_logins dictionary with emails and pre-hashed passwords\n",
        "stored_logins = {\n",
        "    \"user@example.com\": \"5e884898da28047151d0e56f8dc6292773603d0d27a9a2e6d6c8e1362d2e6f01\",  # Hash for \"password\"\n",
        "    \"admin@example.com\": \"6cb75f652a9b52798eb6cf2201057c73ef0e83e089ac88a6062d0e1ecfbc3e4d\"   # Hash for \"123456\"\n",
        "}\n",
        "\n",
        "def login(email: str, password_to_check: str) -> bool:\n",
        "    \"\"\"\n",
        "    Check if the hashed password matches the stored password hash for the given email.\n",
        "\n",
        "    :param email: The email for which to check the password.\n",
        "    :param password_to_check: The password entered by the user.\n",
        "    :return: True if the hashed password matches the stored hash, otherwise False.\n",
        "    \"\"\"\n",
        "    # Get the hash of the entered password\n",
        "    password_hash = hash_password(password_to_check)\n",
        "\n",
        "    # Check if the email exists in stored_logins and the hash matches\n",
        "    if email in stored_logins and stored_logins[email] == password_hash:\n",
        "        return True\n",
        "    else:\n",
        "        return False\n",
        "\n",
        "# Example usage in Colab\n",
        "email = input(\"Enter your email: \")\n",
        "password = input(\"Enter your password: \")\n",
        "\n",
        "if login(email, password):\n",
        "    print(\"Login successful!\")\n",
        "else:\n",
        "    print(\"Invalid credentials.\")\n",
        "\n"
      ],
      "metadata": {
        "colab": {
          "base_uri": "https://localhost:8080/"
        },
        "id": "tU9HVgppP9wo",
        "outputId": "6e983349-c7ce-4b09-b4c4-75eba925670a"
      },
      "execution_count": 17,
      "outputs": [
        {
          "output_type": "stream",
          "name": "stdout",
          "text": [
            "Enter your email: abc@gmail.com\n",
            "Enter your password: 123\n",
            "Invalid credentials.\n"
          ]
        }
      ]
    }
  ]
}