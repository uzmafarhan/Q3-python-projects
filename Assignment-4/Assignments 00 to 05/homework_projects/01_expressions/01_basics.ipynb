{
  "nbformat": 4,
  "nbformat_minor": 0,
  "metadata": {
    "colab": {
      "provenance": [],
      "authorship_tag": "ABX9TyNIK2WGKaOf5DqOy0xJe7Qd",
      "include_colab_link": true
    },
    "kernelspec": {
      "name": "python3",
      "display_name": "Python 3"
    },
    "language_info": {
      "name": "python"
    }
  },
  "cells": [
    {
      "cell_type": "markdown",
      "metadata": {
        "id": "view-in-github",
        "colab_type": "text"
      },
      "source": [
        "<a href=\"https://colab.research.google.com/github/ABDUL-REHMAN-786/Assignment4-giaic/blob/main/01_basics.ipynb\" target=\"_parent\"><img src=\"https://colab.research.google.com/assets/colab-badge.svg\" alt=\"Open In Colab\"/></a>"
      ]
    },
    {
      "cell_type": "markdown",
      "source": [
        "# Write a simple joke bot. The bot starts by asking the user what they want. However, your program will only respond to one response: Joke.\n",
        "\n",
        "If the user enters Joke then we will print out a single joke. Each time the joke is always the same:\n",
        "\n",
        "Here is a joke for you! Panaversity GPT - Sophia is heading out to the grocery store. A programmer tells her: get a liter of milk, and if they have eggs, get 12. Sophia returns with 13 liters of milk. The programmer asks why and Sophia replies: 'because they had eggs'\n",
        "\n",
        "If the user enters anything else we print out:\n",
        "\n",
        "Sorry I only tell jokes\n",
        "\n",
        "You should use the three constants:\n",
        "\n",
        "PROMPT JOKE SORRY\n",
        "\n",
        "which contain the strings for the prompt asked to the user, the joke to print out if the user enters Joke and the sorry message if the user enters anything else.\n",
        "\n",
        "Your program will need to use an if statement which checks if the user input is Joke:\n",
        "\n",
        "if user_input == \"Joke\":\n",
        "\n",
        "Recall that == is a comparison which tests if two values are equal to one another.\n",
        "\n",
        "Here is a full run of the program (user input is in blue):\n",
        "\n",
        "What do you want? Joke Here is a joke for you! Panaversity GPT - Sophia is heading out to the grocery store. A programmer tells her: get a liter of milk, and if they have eggs, get 12. Sophia returns with 13 liters of milk. The programmer asks why and Sophia replies: 'because they had eggs'"
      ],
      "metadata": {
        "id": "-O5sUGhpUSIx"
      }
    },
    {
      "cell_type": "code",
      "source": [
        "# Constants\n",
        "PROMPT = \"What do you want? \"\n",
        "JOKE = \"\"\"Here is a joke for you!\n",
        "Panaversity GPT - Sophia is heading out to the grocery store.\n",
        "A programmer tells her: get a liter of milk, and if they have eggs, get 12.\n",
        "Sophia returns with 13 liters of milk. The programmer asks why and Sophia replies: 'because they had eggs'\"\"\"\n",
        "SORRY = \"Sorry, I only tell jokes.\"\n",
        "\n",
        "def main():\n",
        "    user_input = input(PROMPT).strip()  # Get user input and remove extra spaces\n",
        "\n",
        "    if user_input == \"Joke\":\n",
        "        print(JOKE)  # Print the joke\n",
        "    else:\n",
        "        print(SORRY)  # Print sorry message\n",
        "\n",
        "# Run the program\n",
        "main()\n"
      ],
      "metadata": {
        "colab": {
          "base_uri": "https://localhost:8080/"
        },
        "id": "IgTkqWFaUg49",
        "outputId": "5e5b1688-9f9f-4a50-e379-1406a4aeeb70"
      },
      "execution_count": 3,
      "outputs": [
        {
          "output_type": "stream",
          "name": "stdout",
          "text": [
            "What do you want? Joke\n",
            "Here is a joke for you! \n",
            "Panaversity GPT - Sophia is heading out to the grocery store. \n",
            "A programmer tells her: get a liter of milk, and if they have eggs, get 12. \n",
            "Sophia returns with 13 liters of milk. The programmer asks why and Sophia replies: 'because they had eggs'\n"
          ]
        }
      ]
    },
    {
      "cell_type": "markdown",
      "source": [
        "# Write a program that asks a user to enter a number. Your program will then double that number and print out the result. It will repeat that process until the value is 100 or greater.\n",
        "\n",
        "For example if the user enters the number 2 you would then print:\n",
        "\n",
        "4 8 16 32 64 128\n",
        "\n",
        "Note that:\n",
        "\n",
        "2 doubled is 4\n",
        "\n",
        "4 doubled is 8\n",
        "\n",
        "8 doubled is 16\n",
        "\n",
        "and so on.\n",
        "\n",
        "We stop at 128 because that value is greater than 100.\n",
        "\n",
        "Maintain the current number in a variable named curr_value. When you double the number, you should be updating curr_value. Recall that you can double the value of curr_value using a line like:\n",
        "\n",
        "curr_value = curr_value * 2\n",
        "\n",
        "This program should have a while loop and the while loop condition should test if curr_value is less than 100. Thus, your program will have the line:\n",
        "\n",
        "while curr_value < 100:"
      ],
      "metadata": {
        "id": "5rCzA_ZqU2Qq"
      }
    },
    {
      "cell_type": "code",
      "source": [
        "def main():\n",
        "    curr_value = int(input(\"Enter a number: \"))  # Get user input\n",
        "\n",
        "    while curr_value < 100:  # Loop until value reaches or exceeds 100\n",
        "        curr_value *= 2  # Double the current value\n",
        "        print(curr_value, end=\" \")  # Print result in one line\n",
        "\n",
        "# Run the program\n",
        "main()\n"
      ],
      "metadata": {
        "colab": {
          "base_uri": "https://localhost:8080/"
        },
        "id": "AwDvcuZOU-Rd",
        "outputId": "480b58f1-da88-43bc-9d6d-bb6b951f6b48"
      },
      "execution_count": 4,
      "outputs": [
        {
          "output_type": "stream",
          "name": "stdout",
          "text": [
            "Enter a number: 99\n",
            "198 "
          ]
        }
      ]
    },
    {
      "cell_type": "markdown",
      "source": [
        "# Write a program that prints out the calls for a spaceship that is about to launch. Countdown from 10 to 1 and then output Liftoff!\n",
        "\n",
        "Here's a sample run of the program:\n",
        "\n",
        "10 9 8 7 6 5 4 3 2 1 Liftoff!\n",
        "\n",
        "There are many ways to solve this problem. One approach is to use a for loop, and to use the for loop variable i. Recall that i will keep track of how many times the for loop has completed executing its body. As an example this code:\n",
        "\n",
        "for i in range(10): print(i)\n",
        "\n",
        "Will print out the values 0, 1, 2, 3, 4, 5, 6, 7, 8, 9. The values printed in liftoff are 10 minus the number of times the for loop has completed."
      ],
      "metadata": {
        "id": "Hr9URSi9VEO0"
      }
    },
    {
      "cell_type": "code",
      "source": [
        "def main():\n",
        "    for i in range(10, 0, -1):  # Countdown from 10 to 1\n",
        "        print(i, end=\" \")  # Print numbers on the same line\n",
        "    print(\"Liftoff!\")  # Print \"Liftoff!\" after countdown\n",
        "\n",
        "# Run the program\n",
        "main()\n"
      ],
      "metadata": {
        "colab": {
          "base_uri": "https://localhost:8080/"
        },
        "id": "FPsO-Np1VL86",
        "outputId": "8b7dc5a2-c1fd-4c60-89e5-73ca31b6246d"
      },
      "execution_count": 5,
      "outputs": [
        {
          "output_type": "stream",
          "name": "stdout",
          "text": [
            "10 9 8 7 6 5 4 3 2 1 Liftoff!\n"
          ]
        }
      ]
    },
    {
      "cell_type": "markdown",
      "source": [
        "# Guess My Number\n",
        "\n",
        "I am thinking of a number between 0 and 99... Enter a guess: 50 Your guess is too high\n",
        "\n",
        "Enter a new number: 25 Your guess is too low\n",
        "\n",
        "Enter a new number: 40 Your guess is too low\n",
        "\n",
        "Enter a new number: 45 Your guess is too low\n",
        "\n",
        "Enter a new number: 48 Congrats! The number was: 48"
      ],
      "metadata": {
        "id": "K7S3COmRVSwh"
      }
    },
    {
      "cell_type": "code",
      "source": [
        "import random\n",
        "\n",
        "def main():\n",
        "    secret_number = random.randint(0, 99)  # Pick a random number between 0 and 99\n",
        "\n",
        "    while True:\n",
        "        user_input = input(\"I am thinking of a number between 0 and 99... Enter a guess (or type 'exit' to quit): \")\n",
        "\n",
        "        if user_input.lower() == \"exit\":  # Check if user wants to exit\n",
        "            print(\"Goodbye! Thanks for playing.\")\n",
        "            return  # Exit the game\n",
        "\n",
        "        try:\n",
        "            guess = int(user_input)  # Convert input to an integer\n",
        "            break  # Valid input, exit loop\n",
        "        except ValueError:\n",
        "            print(\"Invalid input! Please enter a valid number.\")\n",
        "\n",
        "    while guess != secret_number:  # Keep looping until the user guesses correctly\n",
        "        if guess > secret_number:\n",
        "            print(\"Your guess is too high\")\n",
        "        else:\n",
        "            print(\"Your guess is too low\")\n",
        "\n",
        "        while True:\n",
        "            user_input = input(\"Enter a new number (or type 'exit' to quit): \")\n",
        "\n",
        "            if user_input.lower() == \"exit\":  # Exit option\n",
        "                print(\"Goodbye! Thanks for playing.\")\n",
        "                return  # Exit the game\n",
        "\n",
        "            try:\n",
        "                guess = int(user_input)  # Convert input to an integer\n",
        "                break  # Valid input, exit loop\n",
        "            except ValueError:\n",
        "                print(\"Invalid input! Please enter a valid number.\")\n",
        "\n",
        "    print(f\"Congrats! The number was: {secret_number}\")\n",
        "\n",
        "# Run the game\n",
        "main()\n"
      ],
      "metadata": {
        "colab": {
          "base_uri": "https://localhost:8080/"
        },
        "id": "Ata1iiYWWAmV",
        "outputId": "8a2fbbd6-8e0b-4d7e-9ce7-b60982a4a053"
      },
      "execution_count": 8,
      "outputs": [
        {
          "output_type": "stream",
          "name": "stdout",
          "text": [
            "I am thinking of a number between 0 and 99... Enter a guess (or type 'exit' to quit): 33\n",
            "Congrats! The number was: 33\n"
          ]
        }
      ]
    },
    {
      "cell_type": "markdown",
      "source": [
        "# Print 10 random numbers in the range 1 to 100.\n",
        "\n",
        "Here is an example run:\n",
        "\n",
        "45 79 61 47 52 10 16 83 19 12\n",
        "\n",
        "Each time you run your program you should get different numbers\n",
        "\n",
        "81 76 70 1 27 63 96 100 32 92\n",
        "\n",
        "Recall that the python random library has a function randint which returns an integer in the range set by the parameters (inclusive). For example this call would produce a random integer between 1 and 6, which could include 1 and could include 6:\n",
        "\n",
        "value = random.randint(1, 6)"
      ],
      "metadata": {
        "id": "zauRPtf3WGAO"
      }
    },
    {
      "cell_type": "code",
      "source": [
        "import random\n",
        "\n",
        "def main():\n",
        "    while True:\n",
        "        user_input = input(\"Press Enter to generate 10 random numbers or type 'exit' to quit: \")\n",
        "\n",
        "        if user_input.lower() == \"exit\":\n",
        "            print(\"Goodbye! Thanks for playing.\")\n",
        "            break  # Exit the loop and end the program\n",
        "\n",
        "        # Generate and print 10 random numbers\n",
        "        for _ in range(10):\n",
        "            print(random.randint(1, 100), end=\" \")\n",
        "        print()  # Newline for better formatting\n",
        "\n",
        "# Run the program\n",
        "main()\n"
      ],
      "metadata": {
        "colab": {
          "base_uri": "https://localhost:8080/"
        },
        "id": "ogvN0lrcWXlt",
        "outputId": "258dec97-f35b-40dd-f5cd-95675e99c6b7"
      },
      "execution_count": 9,
      "outputs": [
        {
          "output_type": "stream",
          "name": "stdout",
          "text": [
            "Press Enter to generate 10 random numbers or type 'exit' to quit: 4\n",
            "13 84 52 81 22 87 2 34 2 87 \n",
            "Press Enter to generate 10 random numbers or type 'exit' to quit: 12\n",
            "34 84 80 19 38 15 60 45 100 92 \n",
            "Press Enter to generate 10 random numbers or type 'exit' to quit: exit\n",
            "Goodbye! Thanks for playing.\n"
          ]
        }
      ]
    }
  ]
}