{
  "nbformat": 4,
  "nbformat_minor": 0,
  "metadata": {
    "colab": {
      "provenance": [],
      "authorship_tag": "ABX9TyPGGpO77As9vbmfl+haZKft",
      "include_colab_link": true
    },
    "kernelspec": {
      "name": "python3",
      "display_name": "Python 3"
    },
    "language_info": {
      "name": "python"
    }
  },
  "cells": [
    {
      "cell_type": "markdown",
      "metadata": {
        "id": "view-in-github",
        "colab_type": "text"
      },
      "source": [
        "<a href=\"https://colab.research.google.com/github/ABDUL-REHMAN-786/Assignment4-giaic/blob/main/01_expressions.ipynb\" target=\"_parent\"><img src=\"https://colab.research.google.com/assets/colab-badge.svg\" alt=\"Open In Colab\"/></a>"
      ]
    },
    {
      "cell_type": "markdown",
      "source": [
        "# Simulate rolling two dice, three times. Prints the results of each die roll. This program is used to show how variable scope works."
      ],
      "metadata": {
        "id": "ybqdiV1W0YGN"
      }
    },
    {
      "cell_type": "code",
      "source": [
        "import random\n",
        "\n",
        "def roll_dice():\n",
        "    \"\"\"Rolls a six-sided die and returns the result.\"\"\"\n",
        "    return random.randint(1, 6)\n",
        "\n",
        "def roll_two_dice():\n",
        "    \"\"\"Rolls two dice and prints the results.\"\"\"\n",
        "    for i in range(1, 4):  # Loop three times\n",
        "        die1 = roll_dice()  # Local variable\n",
        "        die2 = roll_dice()  # Local variable\n",
        "        print(f\"Roll {i}: Die 1 = {die1}, Die 2 = {die2}\")\n",
        "\n",
        "# Call the function\n",
        "roll_two_dice()\n"
      ],
      "metadata": {
        "colab": {
          "base_uri": "https://localhost:8080/"
        },
        "id": "A8YcNQhd0ck8",
        "outputId": "2aac8f3d-74c7-43da-ba63-8e7dcc82228d"
      },
      "execution_count": 1,
      "outputs": [
        {
          "output_type": "stream",
          "name": "stdout",
          "text": [
            "Roll 1: Die 1 = 1, Die 2 = 6\n",
            "Roll 2: Die 1 = 4, Die 2 = 2\n",
            "Roll 3: Die 1 = 2, Die 2 = 2\n"
          ]
        }
      ]
    },
    {
      "cell_type": "markdown",
      "source": [
        "# Write a program that continually reads in mass from the user and then outputs the equivalent energy using Einstein's mass-energy equivalence formula (E stands for energy, m stands for mass, and C is the speed of light:\n",
        "\n",
        "E = m * c**2\n",
        "\n",
        "Almost 100 years ago, Albert Einstein famously discovered that mass and energy are interchangeable and are related by the above equation. You should ask the user for mass (m) in kilograms and use a constant value for the speed of light -- C = 299792458 m/s.\n",
        "\n",
        "Here's a sample run of the program (user input is in bold italics):\n",
        "\n",
        "Enter kilos of mass: 100\n",
        "\n",
        "e = m * C^2...\n",
        "\n",
        "m = 100.0 kg\n",
        "\n",
        "C = 299792458 m/s\n",
        "\n",
        "8.987551787368176e+18 joules of energy!"
      ],
      "metadata": {
        "id": "rG9Q7l1o0xvW"
      }
    },
    {
      "cell_type": "code",
      "source": [
        "# Define the speed of light constant (m/s)\n",
        "C = 299792458\n",
        "\n",
        "while True:\n",
        "    try:\n",
        "        # Prompt user for mass input\n",
        "        mass = float(input(\"Enter kilos of mass (or type 0 to exit): \"))\n",
        "\n",
        "        # Exit condition\n",
        "        if mass == 0:\n",
        "            print(\"Exiting program. Goodbye!\")\n",
        "            break\n",
        "\n",
        "        # Calculate energy using E = m * C^2\n",
        "        energy = mass * C**2\n",
        "\n",
        "        # Display results\n",
        "        print(\"\\ne = m * C^2...\\n\")\n",
        "        print(f\"m = {mass} kg\")\n",
        "        print(f\"C = {C} m/s\\n\")\n",
        "        print(f\"{energy} joules of energy!\\n\")\n",
        "\n",
        "    except ValueError:\n",
        "        print(\"Invalid input. Please enter a numerical value.\\n\")\n"
      ],
      "metadata": {
        "colab": {
          "base_uri": "https://localhost:8080/"
        },
        "id": "OviWDw9P01Jn",
        "outputId": "d5085e59-84af-45d2-8f11-27b951240747"
      },
      "execution_count": 2,
      "outputs": [
        {
          "output_type": "stream",
          "name": "stdout",
          "text": [
            "Enter kilos of mass (or type 0 to exit): 33\n",
            "\n",
            "e = m * C^2...\n",
            "\n",
            "m = 33.0 kg\n",
            "C = 299792458 m/s\n",
            "\n",
            "2.965892089831498e+18 joules of energy!\n",
            "\n",
            "Enter kilos of mass (or type 0 to exit): 0\n",
            "Exiting program. Goodbye!\n"
          ]
        }
      ]
    },
    {
      "cell_type": "markdown",
      "source": [
        "# **Converts feet to inches. Feet is an American unit of measurement. There are 12 inches per foot. Foot is the singular, and feet is the plural.**"
      ],
      "metadata": {
        "id": "1rGU3_ma1Bc0"
      }
    },
    {
      "cell_type": "code",
      "source": [
        "# Define the conversion factor\n",
        "INCHES_PER_FOOT = 12\n",
        "\n",
        "# Prompt the user for input\n",
        "feet = float(input(\"Enter the number of feet: \"))\n",
        "\n",
        "# Convert to inches\n",
        "inches = feet * INCHES_PER_FOOT\n",
        "\n",
        "# Determine singular or plural for output\n",
        "unit = \"foot\" if feet == 1 else \"feet\"\n",
        "\n",
        "# Display the result\n",
        "print(f\"{feet} {unit} is {inches} inches.\")\n"
      ],
      "metadata": {
        "colab": {
          "base_uri": "https://localhost:8080/"
        },
        "id": "qSScmgra1Kfy",
        "outputId": "d521a5a4-3b4c-47e3-89e0-daaee2469925"
      },
      "execution_count": 3,
      "outputs": [
        {
          "output_type": "stream",
          "name": "stdout",
          "text": [
            "Enter the number of feet: 45\n",
            "45.0 feet is 540.0 inches.\n"
          ]
        }
      ]
    },
    {
      "cell_type": "markdown",
      "source": [
        "# Write a program that asks the user for the lengths of the two perpendicular sides of a right triangle and outputs the length of the third side (the hypotenuse) using the Pythagorean theorem!\n",
        "\n",
        "The Pythagorean theorem, named after the ancient Greek thinker, Pythagoras, is a fundamental relation in geometry. It states that in a right triangle, the square of the hypotenuse is equal to the sum of the square of the other two sides.\n",
        "\n",
        "For instance, let's consider a right triangle ABC, with the right angle located at C. According to the Pythagorean theorem:\n",
        "\n",
        "BC ** 2 = AB ** 2 + AC ** 2\n",
        "\n",
        "Your code should read in the lengths of the sides AB and AC, and that outputs the length of the hypotenuse (BC). You will probably find math.sqrt() to be useful.\n",
        "\n",
        "Here's a sample run of the program (user input is in bold italics):\n",
        "\n",
        "Enter the length of AB: 3\n",
        "\n",
        "Enter the length of AC: 4\n",
        "\n",
        "The length of BC (the hypotenuse) is: 5.0"
      ],
      "metadata": {
        "id": "Zhe8WmvP1Y8t"
      }
    },
    {
      "cell_type": "code",
      "source": [
        "import math  # Import math module for square root function\n",
        "\n",
        "# Prompt the user for the lengths of the two perpendicular sides\n",
        "ab = float(input(\"Enter the length of AB: \"))\n",
        "ac = float(input(\"Enter the length of AC: \"))\n",
        "\n",
        "# Calculate the hypotenuse using the Pythagorean theorem\n",
        "bc = math.sqrt(ab**2 + ac**2)\n",
        "\n",
        "# Round to two decimal places\n",
        "bc_rounded = round(bc, 2)\n",
        "\n",
        "# Display the result\n",
        "print(f\"The length of BC (the hypotenuse) is: {bc_rounded}\")\n",
        "\n"
      ],
      "metadata": {
        "colab": {
          "base_uri": "https://localhost:8080/"
        },
        "id": "GMEjp5La1jV7",
        "outputId": "ae3a0570-d03f-4e16-921d-e321af8a0a37"
      },
      "execution_count": 5,
      "outputs": [
        {
          "output_type": "stream",
          "name": "stdout",
          "text": [
            "Enter the length of AB: 23\n",
            "Enter the length of AC: 23\n",
            "The length of BC (the hypotenuse) is: 32.53\n"
          ]
        }
      ]
    },
    {
      "cell_type": "markdown",
      "source": [
        "# Ask the user for two numbers, one at a time, and then print the result of dividing the first number by the second and also the remainder of the division.\n",
        "\n",
        "Here's a sample run of the program (user input is in bold italics):\n",
        "\n",
        "Please enter an integer to be divided: 5\n",
        "\n",
        "Please enter an integer to divide by: 3\n",
        "\n",
        "The result of this division is 1 with a remainder of 2"
      ],
      "metadata": {
        "id": "I53VL7X61131"
      }
    },
    {
      "cell_type": "code",
      "source": [
        "# Prompt the user for two integers\n",
        "num1 = int(input(\"Please enter an integer to be divided: \"))\n",
        "num2 = int(input(\"Please enter an integer to divide by: \"))\n",
        "\n",
        "# Perform integer division and calculate remainder\n",
        "quotient = num1 // num2\n",
        "remainder = num1 % num2\n",
        "\n",
        "# Display the result\n",
        "print(f\"The result of this division is {quotient} with a remainder of {remainder}\")\n"
      ],
      "metadata": {
        "colab": {
          "base_uri": "https://localhost:8080/"
        },
        "id": "VFdX4ZOq2THx",
        "outputId": "c57895bf-cc27-458c-8270-da3c39785ecf"
      },
      "execution_count": 7,
      "outputs": [
        {
          "output_type": "stream",
          "name": "stdout",
          "text": [
            "Please enter an integer to be divided: 56\n",
            "Please enter an integer to divide by: 54\n",
            "The result of this division is 1 with a remainder of 2\n"
          ]
        }
      ]
    },
    {
      "cell_type": "markdown",
      "source": [
        "# Simulate rolling two dice, and prints results of each roll as well as the total."
      ],
      "metadata": {
        "id": "juLeaS_72YvR"
      }
    },
    {
      "cell_type": "code",
      "source": [
        "import random\n",
        "\n",
        "# Roll two six-sided dice\n",
        "die1 = random.randint(1, 6)\n",
        "die2 = random.randint(1, 6)\n",
        "\n",
        "# Calculate the total\n",
        "total = die1 + die2\n",
        "\n",
        "# Display the results\n",
        "print(f\"You rolled a {die1} and a {die2}.\")\n",
        "print(f\"Total: {total}\")\n"
      ],
      "metadata": {
        "colab": {
          "base_uri": "https://localhost:8080/"
        },
        "id": "t84vrfE42i3f",
        "outputId": "e9d2aa27-55fd-46a3-b3e8-c393dd6008bc"
      },
      "execution_count": 8,
      "outputs": [
        {
          "output_type": "stream",
          "name": "stdout",
          "text": [
            "You rolled a 2 and a 2.\n",
            "Total: 4\n"
          ]
        }
      ]
    },
    {
      "cell_type": "markdown",
      "source": [
        "# Use Python to calculate the number of seconds in a year, and tell the user what the result is in a nice print statement that looks like this (of course the value 5 should be the calculated number instead):\n",
        "\n",
        "There are 5 seconds in a year!\n",
        "\n",
        "You should use constants for this exercise -- there are 365 days in a year, 24 hours in a day, 60 minutes in an hour, and 60 seconds per minute."
      ],
      "metadata": {
        "id": "3KQ0J35g2wfB"
      }
    },
    {
      "cell_type": "code",
      "source": [
        "# Define constants\n",
        "DAYS_IN_YEAR = 365\n",
        "HOURS_IN_DAY = 24\n",
        "MINUTES_IN_HOUR = 60\n",
        "SECONDS_IN_MINUTE = 60\n",
        "\n",
        "# Calculate seconds in a year\n",
        "seconds_in_year = DAYS_IN_YEAR * HOURS_IN_DAY * MINUTES_IN_HOUR * SECONDS_IN_MINUTE\n",
        "\n",
        "# Display the result\n",
        "print(f\"There are {seconds_in_year} seconds in a year!\")\n"
      ],
      "metadata": {
        "colab": {
          "base_uri": "https://localhost:8080/"
        },
        "id": "UKt6TCLv20KM",
        "outputId": "44ac3daa-5bc1-4997-8d9e-3ec61ab22416"
      },
      "execution_count": 9,
      "outputs": [
        {
          "output_type": "stream",
          "name": "stdout",
          "text": [
            "There are 31536000 seconds in a year!\n"
          ]
        }
      ]
    },
    {
      "cell_type": "markdown",
      "source": [
        "# Write a program which prompts the user for an adjective, then a noun, then a verb, and then prints a fun sentence with those words!\n",
        "\n",
        "Mad Libs is a word game where players are prompted for one word at a time, and the words are eventually filled into the blanks of a word template to make an entertaining story! We've provided you with the beginning of a sentence (the SENTENCE_START constant) which will end in a user-inputted adjective, noun, and then verb.\n",
        "\n",
        "Here's a sample run (user input is in bold italics):\n",
        "\n",
        "Please type an adjective and press enter. tiny\n",
        "\n",
        "Please type a noun and press enter. plant\n",
        "\n",
        "Please type a verb and press enter. fly\n",
        "\n",
        "Code in Place is fun. I learned to program and used Python to make my tiny plant fly!"
      ],
      "metadata": {
        "id": "6BuuZDu926oo"
      }
    },
    {
      "cell_type": "code",
      "source": [
        "# Define the sentence start\n",
        "SENTENCE_START = \"Code in Place is fun. I learned to program and used Python to make my\"\n",
        "\n",
        "# Prompt user for inputs\n",
        "adjective = input(\"Please type an adjective and press enter: \")\n",
        "noun = input(\"Please type a noun and press enter: \")\n",
        "verb = input(\"Please type a verb and press enter: \")\n",
        "\n",
        "# Construct and print the sentence\n",
        "print(f\"{SENTENCE_START} {adjective} {noun} {verb}!\")\n"
      ],
      "metadata": {
        "colab": {
          "base_uri": "https://localhost:8080/"
        },
        "id": "Mter_5OI3JGU",
        "outputId": "a3d79c71-1494-4359-81b0-95aea6855d7f"
      },
      "execution_count": 12,
      "outputs": [
        {
          "output_type": "stream",
          "name": "stdout",
          "text": [
            "Please type an adjective and press enter: red\n",
            "Please type a noun and press enter: rehman\n",
            "Please type a verb and press enter: fast\n",
            "Code in Place is fun. I learned to program and used Python to make my red rehman fast!\n"
          ]
        }
      ]
    }
  ]
}