{
  "nbformat": 4,
  "nbformat_minor": 0,
  "metadata": {
    "colab": {
      "provenance": [],
      "authorship_tag": "ABX9TyM1fJ/fVosmQBtkuv56zk1e",
      "include_colab_link": true
    },
    "kernelspec": {
      "name": "python3",
      "display_name": "Python 3"
    },
    "language_info": {
      "name": "python"
    }
  },
  "cells": [
    {
      "cell_type": "markdown",
      "metadata": {
        "id": "view-in-github",
        "colab_type": "text"
      },
      "source": [
        "<a href=\"https://colab.research.google.com/github/ABDUL-REHMAN-786/GIAIC-QUATER3-ASSINGMENT/blob/main/Assignment_6.ipynb\" target=\"_parent\"><img src=\"https://colab.research.google.com/assets/colab-badge.svg\" alt=\"Open In Colab\"/></a>"
      ]
    },
    {
      "cell_type": "markdown",
      "source": [
        "1. Using self\n",
        "Assignment:\n",
        "Create a class Student with attributes name and marks. Use the self keyword to initialize these values via a constructor. Add a method display() that prints student details."
      ],
      "metadata": {
        "id": "uOG-XpAvl2XW"
      }
    },
    {
      "cell_type": "code",
      "source": [
        "\n",
        "class Student:\n",
        "    def __init__(self, name, marks):\n",
        "        self.name = name        # Initialize name using self\n",
        "        self.marks = marks      # Initialize marks using self\n",
        "\n",
        "    def display(self):\n",
        "        print(\"Student Name:\", self.name)\n",
        "        print(\"Marks:\", self.marks)\n",
        "\n",
        "# Example usage\n",
        "student1 = Student(\"Alice\", 85)\n",
        "student1.display()"
      ],
      "metadata": {
        "colab": {
          "base_uri": "https://localhost:8080/"
        },
        "id": "Wfo7bl_il3HV",
        "outputId": "8298caac-b083-4774-a498-ee22c86e563a"
      },
      "execution_count": 1,
      "outputs": [
        {
          "output_type": "stream",
          "name": "stdout",
          "text": [
            "Student Name: Alice\n",
            "Marks: 85\n"
          ]
        }
      ]
    },
    {
      "cell_type": "markdown",
      "source": [
        "\n",
        "2. Using cls\n",
        "Assignment:\n",
        "Create a class Counter that keeps track of how many objects have been created. Use a class variable and a class method with cls to manage and display the count."
      ],
      "metadata": {
        "id": "hGhv43eSl8XP"
      }
    },
    {
      "cell_type": "code",
      "source": [
        "\n",
        "class Counter:\n",
        "    count = 0  # Class variable to keep track of number of objects\n",
        "\n",
        "    def __init__(self):\n",
        "        Counter.count += 1  # Increment the counter when a new object is created\n",
        "\n",
        "    @classmethod\n",
        "    def display_count(cls):\n",
        "        print(\"Total objects created:\", cls.count)\n",
        "\n",
        "# Example usage\n",
        "c1 = Counter()\n",
        "c2 = Counter()\n",
        "c3 = Counter()\n",
        "\n",
        "Counter.display_count()"
      ],
      "metadata": {
        "colab": {
          "base_uri": "https://localhost:8080/"
        },
        "id": "4SQECR8zmGSY",
        "outputId": "1e3aa88a-0204-4330-a64e-5b389a066c21"
      },
      "execution_count": 2,
      "outputs": [
        {
          "output_type": "stream",
          "name": "stdout",
          "text": [
            "Total objects created: 3\n"
          ]
        }
      ]
    },
    {
      "cell_type": "markdown",
      "source": [
        "\n",
        "3. Public Variables and Methods\n",
        "Assignment:\n",
        "Create a class Car with a public variable brand and a public method start(). Instantiate the class and access both from outside the class."
      ],
      "metadata": {
        "id": "ThnON2QTmL0K"
      }
    },
    {
      "cell_type": "code",
      "source": [
        "\n",
        "class Car:\n",
        "    def __init__(self, brand):\n",
        "        self.brand = brand  # Public variable\n",
        "\n",
        "    def start(self):  # Public method\n",
        "        print(f\"{self.brand} car is starting...\")\n",
        "\n",
        "# Example usage\n",
        "my_car = Car(\"Toyota\")\n",
        "\n",
        "# Accessing public variable\n",
        "print(\"Car Brand:\", my_car.brand)\n",
        "\n",
        "# Calling public method\n",
        "my_car.start()"
      ],
      "metadata": {
        "colab": {
          "base_uri": "https://localhost:8080/"
        },
        "id": "0IeJm0gVmSFJ",
        "outputId": "ce2e34f4-9b91-45df-eb92-4ca06edad580"
      },
      "execution_count": 3,
      "outputs": [
        {
          "output_type": "stream",
          "name": "stdout",
          "text": [
            "Car Brand: Toyota\n",
            "Toyota car is starting...\n"
          ]
        }
      ]
    },
    {
      "cell_type": "markdown",
      "source": [
        "\n",
        "4. Class Variables and Class Methods\n",
        "Assignment:\n",
        "Create a class Bank with a class variable bank_name. Add a class method change_bank_name(cls, name) that allows changing the bank name. Show that it affects all instances."
      ],
      "metadata": {
        "id": "XZio7WX_mWmG"
      }
    },
    {
      "cell_type": "code",
      "source": [
        "\n",
        "class Bank:\n",
        "    bank_name = \"Default Bank\"  # Class variable\n",
        "\n",
        "    def __init__(self, customer_name):\n",
        "        self.customer_name = customer_name\n",
        "\n",
        "    @classmethod\n",
        "    def change_bank_name(cls, name):\n",
        "        cls.bank_name = name  # Change class variable using cls\n",
        "\n",
        "    def display(self):\n",
        "        print(f\"Customer: {self.customer_name}, Bank: {Bank.bank_name}\")\n",
        "\n",
        "# Example usage\n",
        "c1 = Bank(\"Alice\")\n",
        "c2 = Bank(\"Bob\")\n",
        "\n",
        "# Before changing bank name\n",
        "c1.display()\n",
        "c2.display()\n",
        "\n",
        "# Change bank name using class method\n",
        "Bank.change_bank_name(\"Future Bank\")\n",
        "\n",
        "# After changing bank name\n",
        "c1.display()\n",
        "c2.display()"
      ],
      "metadata": {
        "colab": {
          "base_uri": "https://localhost:8080/"
        },
        "id": "-E_iMnwjmdnx",
        "outputId": "1db743b9-c6a9-4f20-bc30-9a364e669ab2"
      },
      "execution_count": 4,
      "outputs": [
        {
          "output_type": "stream",
          "name": "stdout",
          "text": [
            "Customer: Alice, Bank: Default Bank\n",
            "Customer: Bob, Bank: Default Bank\n",
            "Customer: Alice, Bank: Future Bank\n",
            "Customer: Bob, Bank: Future Bank\n"
          ]
        }
      ]
    },
    {
      "cell_type": "markdown",
      "source": [
        "\n",
        "5. Static Variables and Static Methods\n",
        "Assignment:\n",
        "Create a class MathUtils with a static method add(a, b) that returns the sum. No class or instance variables should be used."
      ],
      "metadata": {
        "id": "W1DkEt7LmnkX"
      }
    },
    {
      "cell_type": "code",
      "source": [
        "\n",
        "class MathUtils:\n",
        "    @staticmethod\n",
        "    def add(a, b):\n",
        "        return a + b  # No use of class or instance variables\n",
        "\n",
        "# Example usage\n",
        "result = MathUtils.add(10, 20)\n",
        "print(\"Sum:\", result)"
      ],
      "metadata": {
        "colab": {
          "base_uri": "https://localhost:8080/"
        },
        "id": "taEIm4gSmsBc",
        "outputId": "3b00e203-ba69-4b70-ce64-273fa3eda0f5"
      },
      "execution_count": 5,
      "outputs": [
        {
          "output_type": "stream",
          "name": "stdout",
          "text": [
            "Sum: 30\n"
          ]
        }
      ]
    },
    {
      "cell_type": "markdown",
      "source": [
        "\n",
        "6. Constructors and Destructors\n",
        "Assignment:\n",
        "Create a class Logger that prints a message when an object is created (constructor) and another message when it is destroyed (destructor)."
      ],
      "metadata": {
        "id": "DWmO2zFumy5Z"
      }
    },
    {
      "cell_type": "code",
      "source": [
        "\n",
        "class Logger:\n",
        "    def __init__(self):\n",
        "        print(\"Logger initialized. Object created.\")  # Constructor message\n",
        "\n",
        "    def __del__(self):\n",
        "        print(\"Logger destroyed. Object deleted.\")  # Destructor message\n",
        "\n",
        "# Example usage\n",
        "logger1 = Logger()\n",
        "\n",
        "# Manually delete the object to trigger the destructor\n",
        "del logger1"
      ],
      "metadata": {
        "colab": {
          "base_uri": "https://localhost:8080/"
        },
        "id": "hilghWgmm_R2",
        "outputId": "6a9396fd-35e2-4a44-af94-0c67fc4ec5a4"
      },
      "execution_count": 6,
      "outputs": [
        {
          "output_type": "stream",
          "name": "stdout",
          "text": [
            "Logger initialized. Object created.\n",
            "Logger destroyed. Object deleted.\n"
          ]
        }
      ]
    },
    {
      "cell_type": "markdown",
      "source": [
        "\n",
        "7. Access Modifiers: Public, Private, and Protected\n",
        "Assignment:\n",
        "Create a class Employee with:\n",
        "a public variable name,\n",
        "a protected variable _salary, and\n",
        "a private variable __ssn.\n",
        "Try accessing all three variables from an object of the class and document what happens."
      ],
      "metadata": {
        "id": "IwliU9nInDnq"
      }
    },
    {
      "cell_type": "code",
      "source": [
        "\n",
        "class Employee:\n",
        "    def __init__(self, name, salary, ssn):\n",
        "        self.name = name        # Public\n",
        "        self._salary = salary   # Protected (convention)\n",
        "        self.__ssn = ssn        # Private (name mangled)\n",
        "\n",
        "    def display(self):\n",
        "        print(\"Name:\", self.name)\n",
        "        print(\"Salary:\", self._salary)\n",
        "        print(\"SSN:\", self.__ssn)\n",
        "\n",
        "# Create an object\n",
        "emp = Employee(\"John Doe\", 50000, \"123-45-6789\")\n",
        "\n",
        "# Accessing variables from outside the class\n",
        "print(\"Public Name:\", emp.name)         # Works\n",
        "print(\"Protected Salary:\", emp._salary) # Works (not recommended directly)\n",
        "try:\n",
        "    print(\"Private SSN:\", emp.__ssn)    # Fails\n",
        "except AttributeError as e:\n",
        "    print(\"Private SSN Access Error:\", e)\n",
        "\n",
        "# Accessing private variable using name mangling\n",
        "print(\"Accessing Private SSN via name mangling:\", emp._Employee__ssn)"
      ],
      "metadata": {
        "colab": {
          "base_uri": "https://localhost:8080/"
        },
        "id": "vgaH2c8xnNac",
        "outputId": "132fc769-8db6-4bc4-b508-a5a592920fe3"
      },
      "execution_count": 7,
      "outputs": [
        {
          "output_type": "stream",
          "name": "stdout",
          "text": [
            "Public Name: John Doe\n",
            "Protected Salary: 50000\n",
            "Private SSN Access Error: 'Employee' object has no attribute '__ssn'\n",
            "Accessing Private SSN via name mangling: 123-45-6789\n"
          ]
        }
      ]
    },
    {
      "cell_type": "markdown",
      "source": [
        "\n",
        "8. The super() Function\n",
        "Assignment:\n",
        "Create a class Person with a constructor that sets the name. Inherit a class Teacher from it, add a subject field, and use super() to call the base class constructor."
      ],
      "metadata": {
        "id": "7yrI14OZnTCf"
      }
    },
    {
      "cell_type": "code",
      "source": [
        "\n",
        "class Person:\n",
        "    def __init__(self, name):\n",
        "        self.name = name\n",
        "        print(f\"Person initialized with name: {self.name}\")\n",
        "\n",
        "class Teacher(Person):\n",
        "    def __init__(self, name, subject):\n",
        "        super().__init__(name)  # Call base class constructor\n",
        "        self.subject = subject\n",
        "        print(f\"Teacher teaches: {self.subject}\")\n",
        "\n",
        "# Example usage\n",
        "t1 = Teacher(\"Mr. Smith\", \"Mathematics\")"
      ],
      "metadata": {
        "colab": {
          "base_uri": "https://localhost:8080/"
        },
        "id": "UeS_AcBenYEb",
        "outputId": "abd9b82a-cdab-4e0d-c7cb-366eb4c18ccc"
      },
      "execution_count": 8,
      "outputs": [
        {
          "output_type": "stream",
          "name": "stdout",
          "text": [
            "Person initialized with name: Mr. Smith\n",
            "Teacher teaches: Mathematics\n"
          ]
        }
      ]
    },
    {
      "cell_type": "markdown",
      "source": [
        "\n",
        "9. Abstract Classes and Methods\n",
        "Assignment:\n",
        "Use the abc module to create an abstract class Shape with an abstract method area(). Inherit a class Rectangle that implements area()."
      ],
      "metadata": {
        "id": "HFXQTYXpncvU"
      }
    },
    {
      "cell_type": "code",
      "source": [
        "\n",
        "from abc import ABC, abstractmethod\n",
        "\n",
        "# Abstract class\n",
        "class Shape(ABC):\n",
        "    @abstractmethod\n",
        "    def area(self):\n",
        "        pass  # Abstract method\n",
        "\n",
        "# Subclass implementing the abstract method\n",
        "class Rectangle(Shape):\n",
        "    def __init__(self, width, height):\n",
        "        self.width = width\n",
        "        self.height = height\n",
        "\n",
        "    def area(self):\n",
        "        return self.width * self.height\n",
        "\n",
        "# Example usage\n",
        "rect = Rectangle(5, 10)\n",
        "print(\"Area of rectangle:\", rect.area())"
      ],
      "metadata": {
        "colab": {
          "base_uri": "https://localhost:8080/"
        },
        "id": "iHsmk2VfnjSw",
        "outputId": "6febd77c-7230-4cbd-ce8c-cf9f1b17c413"
      },
      "execution_count": 10,
      "outputs": [
        {
          "output_type": "stream",
          "name": "stdout",
          "text": [
            "Area of rectangle: 50\n"
          ]
        }
      ]
    },
    {
      "cell_type": "markdown",
      "source": [
        "\n",
        "10. Instance Methods\n",
        "Assignment:\n",
        "Create a class Dog with instance variables name and breed. Add an instance method bark() that prints a message including the dog's name."
      ],
      "metadata": {
        "id": "Xma0nVm8npt1"
      }
    },
    {
      "cell_type": "code",
      "source": [
        "\n",
        "class Dog:\n",
        "    def __init__(self, name, breed):\n",
        "        self.name = name    # Instance variable\n",
        "        self.breed = breed  # Instance variable\n",
        "\n",
        "    def bark(self):  # Instance method\n",
        "        print(f\"{self.name} says: Woof woof!\")\n",
        "\n",
        "# Example usage\n",
        "dog1 = Dog(\"Buddy\", \"Golden Retriever\")\n",
        "dog1.bark()"
      ],
      "metadata": {
        "colab": {
          "base_uri": "https://localhost:8080/"
        },
        "id": "lYs08bY7nvEb",
        "outputId": "a923d0ce-3459-4bd2-b01e-3de2ff9fe75c"
      },
      "execution_count": 11,
      "outputs": [
        {
          "output_type": "stream",
          "name": "stdout",
          "text": [
            "Buddy says: Woof woof!\n"
          ]
        }
      ]
    },
    {
      "cell_type": "markdown",
      "source": [
        "\n",
        "11. Class Methods\n",
        "Assignment:\n",
        "Create a class Book with a class variable total_books. Add a class method increment_book_count() to increase the count when a new book is added."
      ],
      "metadata": {
        "id": "Iyf0guNBn2LE"
      }
    },
    {
      "cell_type": "code",
      "source": [
        "\n",
        "class Book:\n",
        "    # Class variable to track total number of books\n",
        "    total_books = 0\n",
        "\n",
        "    def __init__(self, title, author):\n",
        "        self.title = title\n",
        "        self.author = author\n",
        "        # Increment the book count every time a new book is created\n",
        "        Book.increment_book_count()\n",
        "\n",
        "    @classmethod\n",
        "    def increment_book_count(cls):\n",
        "        \"\"\"Class method to increment total_books\"\"\"\n",
        "        cls.total_books += 1\n",
        "\n",
        "    @classmethod\n",
        "    def get_total_books(cls):\n",
        "        \"\"\"Class method to get the total number of books\"\"\"\n",
        "        return cls.total_books\n",
        "\n",
        "# Example usage\n",
        "book1 = Book(\"Book One\", \"Author One\")\n",
        "book2 = Book(\"Book Two\", \"Author Two\")\n",
        "book3 = Book(\"Book Three\", \"Author Three\")\n",
        "\n",
        "print(\"Total books:\", Book.get_total_books())  # Output: Total books: 3"
      ],
      "metadata": {
        "colab": {
          "base_uri": "https://localhost:8080/"
        },
        "id": "IlnOlCb1oDIL",
        "outputId": "2fd09cbe-1a54-4547-f7b5-e1664c45c90e"
      },
      "execution_count": 12,
      "outputs": [
        {
          "output_type": "stream",
          "name": "stdout",
          "text": [
            "Total books: 3\n"
          ]
        }
      ]
    },
    {
      "cell_type": "markdown",
      "source": [
        "\n",
        "12. Static Methods\n",
        "Assignment:\n",
        "Create a class TemperatureConverter with a static method celsius_to_fahrenheit(c) that returns the Fahrenheit value."
      ],
      "metadata": {
        "id": "KiP-fGw1oH7Q"
      }
    },
    {
      "cell_type": "code",
      "source": [
        "\n",
        "class TemperatureConverter:\n",
        "\n",
        "    @staticmethod\n",
        "    def celsius_to_fahrenheit(c):\n",
        "        \"\"\"Static method to convert Celsius to Fahrenheit\"\"\"\n",
        "        return (c * 9/5) + 32\n",
        "\n",
        "# Example usage\n",
        "celsius_value = 25\n",
        "fahrenheit_value = TemperatureConverter.celsius_to_fahrenheit(celsius_value)\n",
        "\n",
        "print(f\"{celsius_value}°C is equal to {fahrenheit_value}°F\")"
      ],
      "metadata": {
        "colab": {
          "base_uri": "https://localhost:8080/"
        },
        "id": "lzg0DHRQoNDG",
        "outputId": "b2581faf-1928-4211-d2b8-bc667f7ae087"
      },
      "execution_count": 13,
      "outputs": [
        {
          "output_type": "stream",
          "name": "stdout",
          "text": [
            "25°C is equal to 77.0°F\n"
          ]
        }
      ]
    },
    {
      "cell_type": "markdown",
      "source": [
        "\n",
        "13. Composition\n",
        "Assignment:\n",
        "Create a class Engine and a class Car. Use composition by passing an Engine object to the Car class during initialization. Access a method of the Engine class via the Car class."
      ],
      "metadata": {
        "id": "KjMZ5oYjoRZg"
      }
    },
    {
      "cell_type": "code",
      "source": [
        "\n",
        "class Engine:\n",
        "    def __init__(self, engine_type):\n",
        "        self.engine_type = engine_type\n",
        "\n",
        "    def start_engine(self):\n",
        "        \"\"\"Method to simulate starting the engine\"\"\"\n",
        "        return f\"The {self.engine_type} engine is now running.\"\n",
        "\n",
        "class Car:\n",
        "    def __init__(self, make, model, engine):\n",
        "        self.make = make\n",
        "        self.model = model\n",
        "        self.engine = engine  # Composition: Car has an Engine object\n",
        "\n",
        "    def start_car(self):\n",
        "        \"\"\"Method to start the car by accessing the Engine's start_engine method\"\"\"\n",
        "        return f\"{self.make} {self.model}: {self.engine.start_engine()}\"\n",
        "\n",
        "# Example usage\n",
        "engine = Engine(\"V8\")\n",
        "car = Car(\"Ford\", \"Mustang\", engine)\n",
        "\n",
        "print(car.start_car())"
      ],
      "metadata": {
        "colab": {
          "base_uri": "https://localhost:8080/"
        },
        "id": "cj9mOdj-oZtk",
        "outputId": "ba76508c-92f9-42dc-c228-6493494b431f"
      },
      "execution_count": 14,
      "outputs": [
        {
          "output_type": "stream",
          "name": "stdout",
          "text": [
            "Ford Mustang: The V8 engine is now running.\n"
          ]
        }
      ]
    },
    {
      "cell_type": "markdown",
      "source": [
        "\n",
        "14. Aggregation\n",
        "Assignment:\n",
        "Create a class Department and a class Employee. Use aggregation by having a Department object store a reference to an Employee object that exists independently of it."
      ],
      "metadata": {
        "id": "06p_GYvXofiN"
      }
    },
    {
      "cell_type": "code",
      "source": [
        "\n",
        "class Employee:\n",
        "    def __init__(self, name, position):\n",
        "        self.name = name\n",
        "        self.position = position\n",
        "\n",
        "    def get_employee_details(self):\n",
        "        \"\"\"Method to get employee details\"\"\"\n",
        "        return f\"Name: {self.name}, Position: {self.position}\"\n",
        "\n",
        "class Department:\n",
        "    def __init__(self, dept_name):\n",
        "        self.dept_name = dept_name\n",
        "        self.employees = []\n",
        "\n",
        "    def add_employee(self, employee):\n",
        "        \"\"\"Method to add an Employee object to the department\"\"\"\n",
        "        self.employees.append(employee)\n",
        "\n",
        "    def get_department_info(self):\n",
        "        \"\"\"Method to get department details along with employees\"\"\"\n",
        "        employee_info = [emp.get_employee_details() for emp in self.employees]\n",
        "        return f\"Department: {self.dept_name}\\nEmployees:\\n\" + \"\\n\".join(employee_info)\n",
        "\n",
        "# Example usage\n",
        "emp1 = Employee(\"Alice\", \"Manager\")\n",
        "emp2 = Employee(\"Bob\", \"Engineer\")\n",
        "\n",
        "dept = Department(\"IT\")\n",
        "dept.add_employee(emp1)\n",
        "dept.add_employee(emp2)\n",
        "\n",
        "print(dept.get_department_info())"
      ],
      "metadata": {
        "colab": {
          "base_uri": "https://localhost:8080/"
        },
        "id": "hiOfoBsgollF",
        "outputId": "53c1fa31-62b8-4d25-bb14-e07f2a982d60"
      },
      "execution_count": 15,
      "outputs": [
        {
          "output_type": "stream",
          "name": "stdout",
          "text": [
            "Department: IT\n",
            "Employees:\n",
            "Name: Alice, Position: Manager\n",
            "Name: Bob, Position: Engineer\n"
          ]
        }
      ]
    },
    {
      "cell_type": "markdown",
      "source": [
        "\n",
        "15. Method Resolution Order (MRO) and Diamond Inheritance\n",
        "Assignment:\n",
        "Create four classes:\n",
        "A with a method show(),\n",
        "B and C that inherit from A and override show(),\n",
        "D that inherits from both B and C.\n",
        "Create an object of D and call show() to observe MRO."
      ],
      "metadata": {
        "id": "9OSoIawooruU"
      }
    },
    {
      "cell_type": "code",
      "source": [
        "\n",
        "class A:\n",
        "    def show(self):\n",
        "        print(\"Method from class A\")\n",
        "\n",
        "class B(A):\n",
        "    def show(self):\n",
        "        print(\"Method from class B\")\n",
        "\n",
        "class C(A):\n",
        "    def show(self):\n",
        "        print(\"Method from class C\")\n",
        "\n",
        "class D(B, C):\n",
        "    pass\n",
        "\n",
        "# Create an object of D and call show()\n",
        "d = D()\n",
        "d.show()\n",
        "\n",
        "# Print the MRO for class D\n",
        "print(\"\\nMethod Resolution Order (MRO) for D:\", D.__mro__)"
      ],
      "metadata": {
        "colab": {
          "base_uri": "https://localhost:8080/"
        },
        "id": "kBsH5MM5oyQ-",
        "outputId": "c2fa6f94-1b8a-4988-cb3d-444b479e0ed9"
      },
      "execution_count": 16,
      "outputs": [
        {
          "output_type": "stream",
          "name": "stdout",
          "text": [
            "Method from class B\n",
            "\n",
            "Method Resolution Order (MRO) for D: (<class '__main__.D'>, <class '__main__.B'>, <class '__main__.C'>, <class '__main__.A'>, <class 'object'>)\n"
          ]
        }
      ]
    },
    {
      "cell_type": "markdown",
      "source": [
        "\n",
        "16. Function Decorators\n",
        "Assignment:\n",
        "Write a decorator function log_function_call that prints \"Function is being called\" before a function executes. Apply it to a function say_hello()."
      ],
      "metadata": {
        "id": "3eF5eiXko5zm"
      }
    },
    {
      "cell_type": "code",
      "source": [
        "\n",
        "# Decorator function\n",
        "def log_function_call(func):\n",
        "    def wrapper():\n",
        "        print(\"Function is being called\")\n",
        "        return func()  # Call the original function\n",
        "    return wrapper\n",
        "\n",
        "# Applying the decorator to the say_hello function\n",
        "@log_function_call\n",
        "def say_hello():\n",
        "    print(\"Hello, World!\")\n",
        "\n",
        "# Call the decorated function\n",
        "say_hello()"
      ],
      "metadata": {
        "colab": {
          "base_uri": "https://localhost:8080/"
        },
        "id": "jUOk3wsKpEgI",
        "outputId": "5d7979b3-07f0-44c8-caa5-fd7c149c3448"
      },
      "execution_count": 17,
      "outputs": [
        {
          "output_type": "stream",
          "name": "stdout",
          "text": [
            "Function is being called\n",
            "Hello, World!\n"
          ]
        }
      ]
    },
    {
      "cell_type": "markdown",
      "source": [
        "\n",
        "17. Class Decorators\n",
        "Assignment:\n",
        "Create a class decorator add_greeting that modifies a class to add a greet() method returning \"Hello from Decorator!\". Apply it to a class Person."
      ],
      "metadata": {
        "id": "5iVQ4IGhpJAv"
      }
    },
    {
      "cell_type": "code",
      "source": [
        "\n",
        "# Class decorator\n",
        "def add_greeting(cls):\n",
        "    def greet(self):\n",
        "        return \"Hello from Decorator!\"\n",
        "\n",
        "    # Add the greet method to the class\n",
        "    cls.greet = greet\n",
        "    return cls\n",
        "\n",
        "# Applying the class decorator to Person class\n",
        "@add_greeting\n",
        "class Person:\n",
        "    def __init__(self, name):\n",
        "        self.name = name\n",
        "\n",
        "# Example usage\n",
        "person = Person(\"Alice\")\n",
        "print(person.greet())  # This will print \"Hello from Decorator!\""
      ],
      "metadata": {
        "colab": {
          "base_uri": "https://localhost:8080/"
        },
        "id": "rF44htxbpOrE",
        "outputId": "72165ca9-ef37-4505-b0b1-ae407e86b9fd"
      },
      "execution_count": 18,
      "outputs": [
        {
          "output_type": "stream",
          "name": "stdout",
          "text": [
            "Hello from Decorator!\n"
          ]
        }
      ]
    },
    {
      "cell_type": "markdown",
      "source": [
        "\n",
        "18. Property Decorators: @property, @setter, and @deleter\n",
        "Assignment:\n",
        "Create a class Product with a private attribute _price. Use @property to get the price, @price.setter to update it, and @price.deleter to delete it."
      ],
      "metadata": {
        "id": "dqhxZS43pZ72"
      }
    },
    {
      "cell_type": "code",
      "source": [
        "\n",
        "class Product:\n",
        "    def __init__(self, name, price):\n",
        "        self.name = name\n",
        "        self._price = price  # Private attribute\n",
        "\n",
        "    @property\n",
        "    def price(self):\n",
        "        \"\"\"Getter for price\"\"\"\n",
        "        return self._price\n",
        "\n",
        "    @price.setter\n",
        "    def price(self, value):\n",
        "        \"\"\"Setter for price\"\"\"\n",
        "        if value < 0:\n",
        "            print(\"Price cannot be negative.\")\n",
        "        else:\n",
        "            self._price = value\n",
        "\n",
        "    @price.deleter\n",
        "    def price(self):\n",
        "        \"\"\"Deleter for price\"\"\"\n",
        "        print(f\"Deleting price of {self.name}\")\n",
        "        del self._price\n",
        "\n",
        "# Example usage\n",
        "product = Product(\"Laptop\", 1000)\n",
        "\n",
        "# Get the price using @property\n",
        "print(f\"Price of {product.name}: ${product.price}\")\n",
        "\n",
        "# Update the price using @price.setter\n",
        "product.price = 1200\n",
        "print(f\"Updated price of {product.name}: ${product.price}\")\n",
        "\n",
        "# Try setting a negative price\n",
        "product.price = -500  # Will print an error message\n",
        "\n",
        "# Delete the price using @price.deleter\n",
        "del product.price"
      ],
      "metadata": {
        "colab": {
          "base_uri": "https://localhost:8080/"
        },
        "id": "b_sO5rLepbV4",
        "outputId": "eb25d4d6-30da-4343-9914-7af686b983f7"
      },
      "execution_count": 19,
      "outputs": [
        {
          "output_type": "stream",
          "name": "stdout",
          "text": [
            "Price of Laptop: $1000\n",
            "Updated price of Laptop: $1200\n",
            "Price cannot be negative.\n",
            "Deleting price of Laptop\n"
          ]
        }
      ]
    },
    {
      "cell_type": "markdown",
      "source": [
        "\n",
        "19. callable() and __call__()\n",
        "Assignment:\n",
        "Create a class Multiplier with an __init__() to set a factor. Define a __call__() method that multiplies an input by the factor. Test it with callable() and by calling the object like a function."
      ],
      "metadata": {
        "id": "SNQ1PqBBphp0"
      }
    },
    {
      "cell_type": "code",
      "source": [
        "\n",
        "class Multiplier:\n",
        "    def __init__(self, factor):\n",
        "        \"\"\"Initialize with a factor to multiply by\"\"\"\n",
        "        self.factor = factor\n",
        "\n",
        "    def __call__(self, number):\n",
        "        \"\"\"Multiply the given number by the factor\"\"\"\n",
        "        return number * self.factor\n",
        "\n",
        "# Example usage\n",
        "multiplier = Multiplier(5)\n",
        "\n",
        "# Test using callable()\n",
        "print(callable(multiplier))  # True, since the object can be called like a function\n",
        "\n",
        "# Call the object like a function\n",
        "result = multiplier(10)  # Multiplies 10 by the factor (5)\n",
        "print(f\"Result of multiplying by factor: {result}\")"
      ],
      "metadata": {
        "colab": {
          "base_uri": "https://localhost:8080/"
        },
        "id": "B0pye3hHpnaP",
        "outputId": "801d6ee0-57c1-432d-f152-0cc48d809740"
      },
      "execution_count": 20,
      "outputs": [
        {
          "output_type": "stream",
          "name": "stdout",
          "text": [
            "True\n",
            "Result of multiplying by factor: 50\n"
          ]
        }
      ]
    },
    {
      "cell_type": "markdown",
      "source": [
        "\n",
        "20. Creating a Custom Exception\n",
        "Assignment:\n",
        "Create a custom exception InvalidAgeError. Write a function check_age(age) that raises this exception if age < 18. Handle it with try...except."
      ],
      "metadata": {
        "id": "zsaMTB-xpsnL"
      }
    },
    {
      "cell_type": "code",
      "source": [
        "\n",
        "# Custom Exception\n",
        "class InvalidAgeError(Exception):\n",
        "    \"\"\"Exception raised for invalid age (less than 18)\"\"\"\n",
        "    def __init__(self, age, message=\"Age must be 18 or older.\"):\n",
        "        self.age = age\n",
        "        self.message = message\n",
        "        super().__init__(self.message)\n",
        "\n",
        "# Function to check age\n",
        "def check_age(age):\n",
        "    if age < 18:\n",
        "        raise InvalidAgeError(age)\n",
        "    else:\n",
        "        print(f\"Age {age} is valid.\")\n",
        "\n",
        "# Example usage with try...except\n",
        "try:\n",
        "    age = int(input(\"Enter your age: \"))\n",
        "    check_age(age)\n",
        "except InvalidAgeError as e:\n",
        "    print(f\"Invalid age: {e.age}. {e.message}\")\n",
        "except ValueError:\n",
        "    print(\"Please enter a valid number for age.\")"
      ],
      "metadata": {
        "colab": {
          "base_uri": "https://localhost:8080/"
        },
        "id": "j2xFcO78pyWM",
        "outputId": "eb26ce70-18e2-4ac2-ebc5-03d22bd6c162"
      },
      "execution_count": 22,
      "outputs": [
        {
          "output_type": "stream",
          "name": "stdout",
          "text": [
            "Enter your age: 30\n",
            "Age 30 is valid.\n"
          ]
        }
      ]
    },
    {
      "cell_type": "markdown",
      "source": [
        "\n",
        "21. Make a Custom Class Iterable\n",
        "Assignment:\n",
        "Create a class Countdown that takes a start number. Implement __iter__() and __next__() to make the object iterable in a for-loop, counting down to 0."
      ],
      "metadata": {
        "id": "vQdWw4Ezp8Bl"
      }
    },
    {
      "cell_type": "code",
      "source": [
        "\n",
        "class Countdown:\n",
        "    def __init__(self, start):\n",
        "        \"\"\"Initialize the countdown with a starting number.\"\"\"\n",
        "        self.start = start\n",
        "        self.current = start  # Set the current value to the start\n",
        "\n",
        "    def __iter__(self):\n",
        "        \"\"\"Return the iterator object (the instance itself).\"\"\"\n",
        "        return self\n",
        "\n",
        "    def __next__(self):\n",
        "        \"\"\"Return the next value in the countdown, or raise StopIteration.\"\"\"\n",
        "        if self.current <= 0:\n",
        "            raise StopIteration  # End the iteration when we reach 0\n",
        "        else:\n",
        "            self.current -= 1\n",
        "            return self.current\n",
        "\n",
        "# Example usage\n",
        "countdown = Countdown(5)\n",
        "\n",
        "for number in countdown:\n",
        "    print(number)"
      ],
      "metadata": {
        "colab": {
          "base_uri": "https://localhost:8080/"
        },
        "id": "GlQ0096rqCCG",
        "outputId": "9007a1a4-0d43-4d69-a6a1-cdda8b422f21"
      },
      "execution_count": 23,
      "outputs": [
        {
          "output_type": "stream",
          "name": "stdout",
          "text": [
            "4\n",
            "3\n",
            "2\n",
            "1\n",
            "0\n"
          ]
        }
      ]
    }
  ]
}